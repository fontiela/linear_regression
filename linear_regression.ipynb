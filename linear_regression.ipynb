{
 "cells": [
  {
   "cell_type": "markdown",
   "metadata": {
    "collapsed": true,
    "pycharm": {
     "name": "#%% md\n"
    }
   },
   "source": [
    "# DATA ANALYSIS\n",
    "\n",
    "#### Basic and concepts:\n",
    "\n",
    "Regression analysis is modeling the relationship between a response variable and a set of explanatory variables that allow us determine which of the explanatory variables have an effect on the response.\n",
    "The basic idea of regression analysis is to obtain a model for the functional relationship between a response variable (referred ad the dependent variable) and explanatory variables (referred ad the independent variable).\n",
    "\n",
    "Uses of regression models (from Ott & Longnecker, 2010):\n",
    "1. The model provides a description of the major features of the data set. In some cases, a subset of the explanatory variables will not affect the response variable and hence the researcher will not have to measure or control any of these variables in future studies. This may result in significant savings in future studies or experiments.\n",
    "\n",
    "2. The equation relating the response variable to the explanatory variables produced from the regression analysis provides estimates of the response variable for values of the explanatory not observed in the study. For example, a clinical trial is designed to study the response of a subject to various dose levels of a new drug. Because of time and budgetary constraints, only a limited number of dose levels are used in the study. The regression equation will provide estimates of the subjects’ response for dose levels not included in the study. The accuracy of these estimates will depend heavily on how well the final model fits the observed data.\n",
    "\n",
    "3. In business applications, the prediction of future sales of a product is crucial to production planning. If the data provide a model that has a good fit in relating current sales to sales in previous months, prediction of sales in future months is possible. However, a crucial element in the accuracy of these predictions is that the business conditions during which model building data were collected remains fairly stable over the months for which the predictions are desired.\n",
    "\n",
    "4. In some applications of regression analysis, the researcher is seeking a model which can accurately estimate the values of a variable that is difficult or expensive to measure using explanatory variables that are inexpensive to measure and obtain. If such a model is obtained, then in future applications it is possible to avoid having to obtain the values of the expensive variable by measuring the values of the inexpensive variables and using the regression equation to estimate the value of the expensive variable. For example, a physical fitness center wants to determine the physical well-being of its new clients. Maximal oxygen uptake is recognized as the single best measure of cardiorespiratory fitness but its measurement is expensive. Therefore, the director of the fitness center would want a model that provides accurate estimates of maximal oxygen uptake using easily measured variables such as weight, age, heart rate after 1-kilometer walk, time needed to walk 1 kilometer, and so on.\n",
    "\n",
    "\n",
    "### Linear Regression\n",
    "A simple regression modeling, there is a single independent variable (*x*) and a dependent variable (*y*) and the equation for predicting a dependent variable *y* is a linear function of a given independent variable *x* (from Ott & Longnecker, 2010).\n",
    "The prediction equation is:\n",
    "\n",
    "$$ \\widehat{y} = \\widehat{\\beta}_0 + \\widehat{\\beta}_1x$$\n",
    " where $ \\widehat{y}$ is the estimated value or predicted value of $ y_i $ at the specified values of $x_i$, $ \\widehat{\\beta}_0 $ is the intercept and $ \\widehat{\\beta}_1x $ is the slope. See figure 1 to understand prediction equation on a graphical way.\n",
    "\n",
    "Since our aim is to find a prediction line that relates a dependent variable *y* and a single independent variable *x*. Nevertheless, we need assume that a simple regression  is that the relation is, in fact **linear**. According to the **assumption of linearity**, the slope of the equation doesn't change as *x* changes (figure 1).\n",
    "\n",
    "![Figure1](IMG_AC1501B3B823-1.jpeg)\n",
    "Figure 1. Linear prediction function (source Otto & Longnecker, 2010)\n",
    "\n",
    "Assuming linearity, we would like to write *y* as a linear function of $x:y=\\widehat{\\beta}_0 + \\widehat{\\beta}_1x$. Thus, as linear function there are no space for the inevitable errors. Therefore, we must introduce a **random error term** $\\varepsilon_i$ to each *y*.  model 1 should be re-written to include the errors as follows:\n",
    "  $$ \\widehat{y} = \\widehat{\\beta}_0 + \\widehat{\\beta}_1x + \\varepsilon $$\n",
    "  In fact, this equation differs from the previous one by include the error term *$\\varepsilon$* includes the effects of all other factors, known or unknown. By others words, in linear regression the *$x_i$* values are usually taken as predetermined constants, and the source of randomness is *$\\varepsilon_i$* terms.\n",
    "  #### Formal assumptions of regression analysis (from:Otto & Longnecker, 2010)\n",
    "  1. The relation is, in fact, linear, so that the errors all have expected value zero: *E($\\varepsilon_i$)* = 0 for all *i*.\n",
    "  2. The errors all have the same variance: Var($\\varepsilon_i$) = $\\sigma^2$ for all *i*.\n",
    "  3. The errors are independent of each other.\n",
    "  4. The errors are all normally distributed; *$\\varepsilon_i$* is normally distributed for all *i*.\n",
    "\n",
    "### Least squares\n",
    "The main problem in regression analysis is to find the best straight-line prediction. Basically, best is based on the squared prediction error. We find the equation of the prediction-line, that is, the slope $\\widehat{\\beta}_1$ and intercept $\\widehat{\\beta}_0$ that minimize the total squared prediction error. This method is called **least-squares method** because it chooses $ \\widehat{\\beta}_0 $ and $ \\widehat{\\beta}_1 $ to minimize the quantity.\n",
    "\n",
    "$$ \\sum_i(y-\\widehat{y}_i)^2 = \\sum_i[y_i-(\\widehat{\\beta}_0 + \\widehat{\\beta}_1 x_i)]^2 $$\n",
    "\n",
    "\n",
    "The **least-squares estimates of slope and intercept** are obtained as follows:\n",
    "\n",
    "$$ \\widehat{\\beta}_1 = \\frac{S_{xy}}{S_{xx}}  and   \\widehat{\\beta}_0 = \\bar{y} - \\widehat{\\beta}_1 \\bar{x}$$\n",
    "\n",
    "$$ S_{xy} = \\sum_i(x_i -\\bar{x})(y_i - \\bar{y}) and S_{xx} = \\sum_i(x_i - \\bar{x})^2 $$\n",
    "\n",
    "Thus, $S_{xy}$ is the sum of *x* deviations times *y* deviations and $S_{xx}$ is the sum of *x* deviations squared\n",
    "\n",
    "\n",
    "\n",
    "## Building a linear regression model\n",
    "In this exercise, we will use python to build a linear regression model on five steps:\n",
    "1. Reading and understanding the data;\n",
    "2. Visualizing the data;\n",
    "3. Performing simple linear regression;\n",
    "4. Residual analysis;\n",
    "5. Predictions;\n",
    "\n",
    "#### 1. Reading and understanding the data:\n",
    "We start by import the `numpy` and `pandas` libraries to the Jupyter notebook and read data using `pandas`"
   ]
  },
  {
   "cell_type": "code",
   "execution_count": 25,
   "metadata": {
    "pycharm": {
     "name": "#%%\n"
    }
   },
   "outputs": [
    {
     "data": {
      "text/plain": "   Sample    Na2O     MgO   Al2O3    SiO2      P2O5       S     K2O     CaO  \\\n0      N1  0.0365  0.0269  0.1543  0.5910  0.000502  0.0005  0.0110  0.0434   \n1      N2  0.0078  0.0407  0.1268  0.5592  0.000835  0.0007  0.0254  0.0503   \n2      N3  0.0055  0.0394  0.1230  0.5641  0.000896  0.0000  0.0247  0.0599   \n3      N4  0.0051  0.0257  0.1875  0.4649  0.000292  0.0000  0.0236  0.0275   \n4      N5  0.0123  0.0231  0.1031  0.4387  0.000637  0.0000  0.0178  0.1755   \n5      N6  0.0258  0.0306  0.1509  0.6210  0.001179  0.0000  0.0144  0.0282   \n6      N7  0.0344  0.0035  0.1344  0.7304  0.000524  0.0000  0.0418  0.0064   \n7      N8  0.0173  0.0150  0.1739  0.6143  0.000077  0.0000  0.0432  0.0129   \n8      N9  0.0021  0.1108  0.1475  0.4480  0.000808  0.0000  0.0057  0.0376   \n9     N10  0.0057  0.0328  0.1687  0.5679  0.000144  0.0000  0.0155  0.0111   \n10    N11  0.0095  0.0367  0.1781  0.5164  0.000447  0.0000  0.0166  0.0269   \n11    N12  0.0040  0.0376  0.1465  0.5077  0.000983  0.0001  0.0156  0.0710   \n12    N13  0.0046  0.0180  0.1308  0.4997  0.000699  0.0001  0.0278  0.1124   \n13   N14A  0.0041  0.0415  0.1015  0.3856  0.000432  0.0003  0.0122  0.1932   \n14   N14B  0.0034  0.0299  0.0769  0.3014  0.000099  0.0000  0.0087  0.2944   \n15    N15  0.0143  0.0166  0.1599  0.6550  0.000187  0.0002  0.0365  0.0076   \n16    N16  0.0021  0.1837  0.0029  0.0445  0.000000  0.0015  0.0009  0.3652   \n17    N17  0.0060  0.0358  0.0947  0.3343  0.000218  0.0002  0.0196  0.2247   \n18    N18  0.0054  0.0229  0.0754  0.2776  0.000027  0.0000  0.0151  0.3193   \n19    N19  0.0302  0.0135  0.1655  0.6233  0.001154  0.0000  0.0415  0.0185   \n20    N20  0.0059  0.0200  0.1678  0.5600  0.000461  0.0000  0.0191  0.0242   \n21    N21  0.0067  0.0165  0.1706  0.5783  0.000235  0.0001  0.0262  0.0097   \n22    N22  0.0036  0.0138  0.1221  0.3721  0.000226  0.0000  0.0115  0.1944   \n23    N23  0.0077  0.0742  0.1556  0.5231  0.000324  0.0000  0.0168  0.0046   \n24    N24  0.0326  0.0345  0.1721  0.5513  0.000739  0.0002  0.0194  0.0141   \n25    N25  0.0128  0.0100  0.0515  0.7806  0.000152  0.0001  0.0063  0.0625   \n26    N26  0.0051  0.0190  0.1910  0.3983  0.000082  0.0000  0.0257  0.0801   \n27    N27  0.0151  0.0267  0.1374  0.5112  0.000179  0.0000  0.0240  0.0908   \n28    N28  0.0102  0.0324  0.1659  0.5572  0.000156  0.0015  0.0293  0.0063   \n29    N29  0.0366  0.0514  0.1317  0.5608  0.000257  0.0035  0.0243  0.0054   \n30    N30  0.0449  0.0324  0.0967  0.3279  0.000226  0.0004  0.0131  0.1816   \n31    N31  0.0216  0.0376  0.0996  0.3876  0.000130  0.0004  0.0162  0.1786   \n32    N32  0.0148  0.0162  0.1226  0.5594  0.000088  0.0000  0.0166  0.0767   \n33    N33  0.0057  0.0321  0.1062  0.4496  0.000779  0.0000  0.0052  0.1183   \n34    N34  0.0033  0.0175  0.1275  0.4377  0.000288  0.0002  0.0178  0.1497   \n35    N35  0.0105  0.0299  0.1502  0.5559  0.000946  0.0003  0.0223  0.0188   \n36    N36  0.0211  0.0383  0.1494  0.5564  0.000515  0.0000  0.0278  0.0170   \n37    N37  0.0075  0.0333  0.0401  0.5617  0.000267  0.0002  0.0033  0.1731   \n38    N38  0.0091  0.0379  0.1154  0.3705  0.000437  0.0001  0.0251  0.1771   \n39    N39  0.0083  0.0379  0.1172  0.4368  0.002702  0.0002  0.0176  0.1310   \n40    N40  0.0088  0.0575  0.1139  0.3684  0.000216  0.0002  0.0175  0.1532   \n41    N41  0.0034  0.0476  0.0439  0.2574  0.000000  0.0003  0.0006  0.3355   \n42    N42  0.0205  0.0111  0.1038  0.5721  0.000486  0.0002  0.0369  0.1215   \n43    N43  0.0204  0.0099  0.0990  0.6067  0.000212  0.0000  0.0381  0.1192   \n44    N44  0.0319  0.0085  0.1526  0.6734  0.000269  0.0000  0.0420  0.0175   \n45    N45  0.0105  0.0255  0.0892  0.5116  0.000322  0.0000  0.0145  0.1504   \n46    N46  0.0343  0.0120  0.1559  0.6595  0.000228  0.0000  0.0479  0.0040   \n47    N47  0.0223  0.0069  0.1431  0.7116  0.000298  0.0059  0.0401  0.0061   \n48    N48  0.0053  0.0358  0.1129  0.5622  0.000156  0.0000  0.0230  0.0766   \n49    N49  0.0257  0.0091  0.1404  0.6897  0.000562  0.0004  0.0417  0.0076   \n50    N50  0.0080  0.0184  0.0723  0.2941  0.000000     NaN  0.0148  0.3063   \n51   N51A  0.0198  0.0641  0.1083  0.4495  0.000571  0.0000  0.0107  0.1104   \n52   N51B  0.0173  0.0385  0.1402  0.5596  0.000405  0.0001  0.0195  0.0301   \n53    N52  0.0085  0.0325  0.1616  0.4375  0.000365  0.0000  0.0238  0.0705   \n54    N53  0.0000  0.0000  0.0000  0.0000  0.000000  0.0024  0.0000  0.0000   \n55   N54A  0.0405  0.0114  0.1233  0.6586  0.000116  0.0017  0.0188  0.0053   \n56   N54B  0.0320  0.0084  0.1039  0.6903  0.000002  0.0000  0.0243  0.0203   \n\n      TiO2  ...        As        Pb        Sn         V        Cl        Mn  \\\n0   0.0054  ...  0.000001  0.000008  0.000011  0.000084  0.000112  0.001375   \n1   0.0076  ...  0.000017  0.000000  0.000003  0.000107  0.000408  0.000559   \n2   0.0075  ...  0.000016  0.000000  0.000012  0.000033  0.000297  0.000514   \n3   0.0102  ...  0.000012  0.000010  0.000017  0.000099  0.000052  0.000892   \n4   0.0049  ...  0.000008  0.000000  0.000020  0.000048  0.000124  0.000290   \n5   0.0077  ...  0.000005  0.000021  0.000018  0.000065  0.000055  0.000797   \n6   0.0016  ...  0.000006  0.000023  0.000023  0.000000  0.000058  0.000193   \n7   0.0065  ...  0.000008  0.000022  0.000015  0.000042  0.000051  0.000432   \n8   0.0125  ...  0.000005  0.000000  0.000001  0.000119  0.000052  0.001055   \n9   0.0081  ...  0.000006  0.000006  0.000006  0.000088  0.000053  0.001050   \n10  0.0085  ...  0.000009  0.000032  0.000003  0.000040  0.000051  0.000779   \n11  0.0068  ...  0.000008  0.000025  0.000010  0.000091  0.000051  0.001213   \n12  0.0062  ...  0.000025  0.000000  0.000005  0.000063  0.000160  0.000638   \n13  0.0045  ...  0.000004  0.000004  0.000005  0.000046  0.000082  0.000507   \n14  0.0036  ...  0.000004  0.000009  0.000005  0.000029  0.000073  0.000409   \n15  0.0068  ...  0.000002  0.000017  0.000016  0.000054  0.000128  0.000344   \n16  0.0003  ...  0.000002  0.000002  0.000012  0.000022  0.000148  0.000320   \n17  0.0042  ...  0.000005  0.000000  0.000004  0.000076  0.000507  0.000454   \n18  0.0033  ...  0.000004  0.000003  0.000012  0.000054  0.000071  0.000313   \n19  0.0082  ...  0.000009  0.000052  0.000018  0.000020  0.000054  0.000542   \n20  0.0073  ...  0.000010  0.000020  0.000016  0.000048  0.000052  0.001173   \n21  0.0086  ...  0.000049  0.000000  0.000027  0.000085  0.000051  0.000610   \n22  0.0065  ...  0.000009  0.000015  0.000029  0.000052  0.000061  0.000411   \n23  0.0072  ...  0.000021  0.000000  0.000016  0.000076  0.000054  0.002659   \n24  0.0086  ...  0.000008  0.000017  0.000017  0.000066  0.000065  0.000887   \n25  0.0021  ...  0.000005  0.000001  0.000007  0.000053  0.000254  0.000142   \n26  0.0057  ...  0.000051  0.000000  0.000006  0.000085  0.000088  0.000852   \n27  0.0069  ...  0.000012  0.000000  0.000014  0.000048  0.000062  0.000501   \n28  0.0080  ...  0.000060  0.000000  0.000015  0.000048  0.000067  0.001317   \n29  0.0074  ...  0.000005  0.000005  0.000004  0.000070  0.001370  0.001633   \n30  0.0037  ...  0.000007  0.000000  0.000020  0.000061  0.002085  0.000852   \n31  0.0052  ...  0.000017  0.000000  0.000002  0.000058  0.000660  0.001424   \n32  0.0075  ...  0.000015  0.000006  0.000003  0.000070  0.000374  0.001363   \n33  0.0146  ...  0.000037  0.000000  0.000013  0.000078  0.000060  0.003223   \n34  0.0068  ...  0.000017  0.000000       NaN  0.000049  0.000056  0.000993   \n35  0.0093  ...  0.000012  0.000012  0.000002  0.000088  0.000052  0.001138   \n36  0.0084  ...  0.000012  0.000002  0.000000  0.000133  0.000356  0.001007   \n37  0.0016  ...  0.000007  0.000000  0.000005  0.000015  0.000065  0.000537   \n38  0.0058  ...  0.000005  0.000008  0.000015  0.000049  0.000105  0.000611   \n39  0.0073  ...  0.000009  0.000015  0.000026  0.000055  0.000053  0.000752   \n40  0.0058  ...  0.000006  0.000010  0.000008  0.000071  0.000118  0.000597   \n41  0.0015  ...  0.000006  0.000004  0.000000  0.000040  0.000160  0.001047   \n42  0.0033  ...  0.000006  0.000032  0.000000  0.000001  0.000060  0.000189   \n43  0.0009  ...  0.000008  0.000031  0.000002  0.000032  0.000054  0.000075   \n44  0.0057  ...  0.000008  0.000040  0.000022  0.000034  0.000054  0.000358   \n45  0.0042  ...  0.000004  0.000007  0.000026  0.000036  0.000059  0.000748   \n46  0.0069  ...  0.000008  0.000044  0.000036  0.000042  0.000057  0.000085   \n47  0.0050  ...  0.000007  0.000034  0.000000  0.000065  0.000060  0.000589   \n48  0.0060  ...  0.000058  0.000000  0.000008  0.000043  0.000199  0.000630   \n49  0.0045  ...  0.000010  0.000031  0.000000  0.000017  0.000066  0.000405   \n50  0.0032  ...  0.000005  0.000003  0.000020  0.000042  0.000180  0.000759   \n51  0.0094  ...  0.000003  0.000005  0.000005  0.000114  0.000053  0.001362   \n52  0.0112  ...  0.000008  0.000000  0.000004  0.000153  0.000058  0.001630   \n53  0.0080  ...  0.000012  0.000018  0.000000  0.000096  0.000061  0.001172   \n54  0.0000  ...  0.000000  0.000000  0.000000  0.000000  0.000000  0.000000   \n55  0.0057  ...  0.000011  0.000015  0.000000  0.000092  0.001383  0.001368   \n56  0.0042  ...  0.000009  0.000017  0.000000       NaN  0.001387  0.000748   \n\n      LOI initial weight  final weight  Weight  \n0    6.05           13.2        13.071   0.129  \n1   14.13           13.2        12.974   0.226  \n2   12.38           13.2        12.995   0.205  \n3   16.47           13.2        12.946   0.254  \n4   19.13           13.2        12.914   0.286  \n5    5.05           13.2        13.083   0.117  \n6    4.55           13.2        13.089   0.111  \n7    6.55           13.2        13.065   0.135  \n8   14.30           13.2        13.972  -0.772  \n9   12.13           13.2        12.998   0.202  \n10  13.97           13.2        12.976   0.224  \n11  15.05           13.2        12.963   0.237  \n12  15.22           13.2        12.961   0.239  \n13  23.30           13.2        12.864   0.336  \n14  27.72           13.2        12.811   0.389  \n15   5.38           13.2        13.079   0.121  \n16  46.13           13.2        12.590   0.610  \n17  24.97           13.2        12.844   0.356  \n18  27.97           13.2        12.808   0.392  \n19   5.38           13.2        13.079   0.121  \n20  12.22           13.2        12.997   0.203  \n21   9.63           13.2        13.030   0.170  \n22  23.72           13.2        12.859   0.341  \n23  11.55           13.2        13.005   0.195  \n24   8.88           13.2         8.880   4.320  \n25   7.47           13.2        13.054   0.146  \n26  19.22           13.2        12.913   0.287  \n27  12.97           13.2        12.988   0.212  \n28   9.97           13.2        13.024   0.176  \n29   7.80           13.2        13.050   0.150  \n30  22.55           13.2        12.873   0.327  \n31  20.05           13.2        12.903   0.297  \n32  13.97           13.2        12.976   0.224  \n33  10.55           13.2        13.017   0.183  \n34  19.55           13.2        12.909   0.291  \n35  13.88           13.2        12.977   0.223  \n36  11.47           13.2        13.006   0.194  \n37  17.72           13.2        12.931   0.269  \n38  20.55           13.2        12.897   0.303  \n39  19.30           13.2        12.912   0.288  \n40  23.63           13.2        12.860   0.340  \n41  30.30           13.2        12.780   0.420  \n42  12.80           13.2        12.990   0.210  \n43  11.47           13.2        13.006   0.194  \n44   4.55           13.2        13.089   0.111  \n45  17.22           13.2        12.937   0.263  \n46   5.47           13.2        13.078   0.122  \n47   5.30           13.2        13.080   0.120  \n48  10.30           13.2        13.020   0.180  \n49   6.72           13.2        13.063   0.137  \n50  28.13           13.2        12.806   0.394  \n51  14.72           13.2        12.967   0.233  \n52  10.05           13.2        13.023   0.177  \n53  18.80           13.2        12.918   0.282  \n54   0.00            0.0         0.000   0.000  \n55  10.47           13.2        13.018   0.182  \n56   6.97           13.2        13.060   0.140  \n\n[57 rows x 34 columns]",
      "text/html": "<div>\n<style scoped>\n    .dataframe tbody tr th:only-of-type {\n        vertical-align: middle;\n    }\n\n    .dataframe tbody tr th {\n        vertical-align: top;\n    }\n\n    .dataframe thead th {\n        text-align: right;\n    }\n</style>\n<table border=\"1\" class=\"dataframe\">\n  <thead>\n    <tr style=\"text-align: right;\">\n      <th></th>\n      <th>Sample</th>\n      <th>Na2O</th>\n      <th>MgO</th>\n      <th>Al2O3</th>\n      <th>SiO2</th>\n      <th>P2O5</th>\n      <th>S</th>\n      <th>K2O</th>\n      <th>CaO</th>\n      <th>TiO2</th>\n      <th>...</th>\n      <th>As</th>\n      <th>Pb</th>\n      <th>Sn</th>\n      <th>V</th>\n      <th>Cl</th>\n      <th>Mn</th>\n      <th>LOI</th>\n      <th>initial weight</th>\n      <th>final weight</th>\n      <th>Weight</th>\n    </tr>\n  </thead>\n  <tbody>\n    <tr>\n      <th>0</th>\n      <td>N1</td>\n      <td>0.0365</td>\n      <td>0.0269</td>\n      <td>0.1543</td>\n      <td>0.5910</td>\n      <td>0.000502</td>\n      <td>0.0005</td>\n      <td>0.0110</td>\n      <td>0.0434</td>\n      <td>0.0054</td>\n      <td>...</td>\n      <td>0.000001</td>\n      <td>0.000008</td>\n      <td>0.000011</td>\n      <td>0.000084</td>\n      <td>0.000112</td>\n      <td>0.001375</td>\n      <td>6.05</td>\n      <td>13.2</td>\n      <td>13.071</td>\n      <td>0.129</td>\n    </tr>\n    <tr>\n      <th>1</th>\n      <td>N2</td>\n      <td>0.0078</td>\n      <td>0.0407</td>\n      <td>0.1268</td>\n      <td>0.5592</td>\n      <td>0.000835</td>\n      <td>0.0007</td>\n      <td>0.0254</td>\n      <td>0.0503</td>\n      <td>0.0076</td>\n      <td>...</td>\n      <td>0.000017</td>\n      <td>0.000000</td>\n      <td>0.000003</td>\n      <td>0.000107</td>\n      <td>0.000408</td>\n      <td>0.000559</td>\n      <td>14.13</td>\n      <td>13.2</td>\n      <td>12.974</td>\n      <td>0.226</td>\n    </tr>\n    <tr>\n      <th>2</th>\n      <td>N3</td>\n      <td>0.0055</td>\n      <td>0.0394</td>\n      <td>0.1230</td>\n      <td>0.5641</td>\n      <td>0.000896</td>\n      <td>0.0000</td>\n      <td>0.0247</td>\n      <td>0.0599</td>\n      <td>0.0075</td>\n      <td>...</td>\n      <td>0.000016</td>\n      <td>0.000000</td>\n      <td>0.000012</td>\n      <td>0.000033</td>\n      <td>0.000297</td>\n      <td>0.000514</td>\n      <td>12.38</td>\n      <td>13.2</td>\n      <td>12.995</td>\n      <td>0.205</td>\n    </tr>\n    <tr>\n      <th>3</th>\n      <td>N4</td>\n      <td>0.0051</td>\n      <td>0.0257</td>\n      <td>0.1875</td>\n      <td>0.4649</td>\n      <td>0.000292</td>\n      <td>0.0000</td>\n      <td>0.0236</td>\n      <td>0.0275</td>\n      <td>0.0102</td>\n      <td>...</td>\n      <td>0.000012</td>\n      <td>0.000010</td>\n      <td>0.000017</td>\n      <td>0.000099</td>\n      <td>0.000052</td>\n      <td>0.000892</td>\n      <td>16.47</td>\n      <td>13.2</td>\n      <td>12.946</td>\n      <td>0.254</td>\n    </tr>\n    <tr>\n      <th>4</th>\n      <td>N5</td>\n      <td>0.0123</td>\n      <td>0.0231</td>\n      <td>0.1031</td>\n      <td>0.4387</td>\n      <td>0.000637</td>\n      <td>0.0000</td>\n      <td>0.0178</td>\n      <td>0.1755</td>\n      <td>0.0049</td>\n      <td>...</td>\n      <td>0.000008</td>\n      <td>0.000000</td>\n      <td>0.000020</td>\n      <td>0.000048</td>\n      <td>0.000124</td>\n      <td>0.000290</td>\n      <td>19.13</td>\n      <td>13.2</td>\n      <td>12.914</td>\n      <td>0.286</td>\n    </tr>\n    <tr>\n      <th>5</th>\n      <td>N6</td>\n      <td>0.0258</td>\n      <td>0.0306</td>\n      <td>0.1509</td>\n      <td>0.6210</td>\n      <td>0.001179</td>\n      <td>0.0000</td>\n      <td>0.0144</td>\n      <td>0.0282</td>\n      <td>0.0077</td>\n      <td>...</td>\n      <td>0.000005</td>\n      <td>0.000021</td>\n      <td>0.000018</td>\n      <td>0.000065</td>\n      <td>0.000055</td>\n      <td>0.000797</td>\n      <td>5.05</td>\n      <td>13.2</td>\n      <td>13.083</td>\n      <td>0.117</td>\n    </tr>\n    <tr>\n      <th>6</th>\n      <td>N7</td>\n      <td>0.0344</td>\n      <td>0.0035</td>\n      <td>0.1344</td>\n      <td>0.7304</td>\n      <td>0.000524</td>\n      <td>0.0000</td>\n      <td>0.0418</td>\n      <td>0.0064</td>\n      <td>0.0016</td>\n      <td>...</td>\n      <td>0.000006</td>\n      <td>0.000023</td>\n      <td>0.000023</td>\n      <td>0.000000</td>\n      <td>0.000058</td>\n      <td>0.000193</td>\n      <td>4.55</td>\n      <td>13.2</td>\n      <td>13.089</td>\n      <td>0.111</td>\n    </tr>\n    <tr>\n      <th>7</th>\n      <td>N8</td>\n      <td>0.0173</td>\n      <td>0.0150</td>\n      <td>0.1739</td>\n      <td>0.6143</td>\n      <td>0.000077</td>\n      <td>0.0000</td>\n      <td>0.0432</td>\n      <td>0.0129</td>\n      <td>0.0065</td>\n      <td>...</td>\n      <td>0.000008</td>\n      <td>0.000022</td>\n      <td>0.000015</td>\n      <td>0.000042</td>\n      <td>0.000051</td>\n      <td>0.000432</td>\n      <td>6.55</td>\n      <td>13.2</td>\n      <td>13.065</td>\n      <td>0.135</td>\n    </tr>\n    <tr>\n      <th>8</th>\n      <td>N9</td>\n      <td>0.0021</td>\n      <td>0.1108</td>\n      <td>0.1475</td>\n      <td>0.4480</td>\n      <td>0.000808</td>\n      <td>0.0000</td>\n      <td>0.0057</td>\n      <td>0.0376</td>\n      <td>0.0125</td>\n      <td>...</td>\n      <td>0.000005</td>\n      <td>0.000000</td>\n      <td>0.000001</td>\n      <td>0.000119</td>\n      <td>0.000052</td>\n      <td>0.001055</td>\n      <td>14.30</td>\n      <td>13.2</td>\n      <td>13.972</td>\n      <td>-0.772</td>\n    </tr>\n    <tr>\n      <th>9</th>\n      <td>N10</td>\n      <td>0.0057</td>\n      <td>0.0328</td>\n      <td>0.1687</td>\n      <td>0.5679</td>\n      <td>0.000144</td>\n      <td>0.0000</td>\n      <td>0.0155</td>\n      <td>0.0111</td>\n      <td>0.0081</td>\n      <td>...</td>\n      <td>0.000006</td>\n      <td>0.000006</td>\n      <td>0.000006</td>\n      <td>0.000088</td>\n      <td>0.000053</td>\n      <td>0.001050</td>\n      <td>12.13</td>\n      <td>13.2</td>\n      <td>12.998</td>\n      <td>0.202</td>\n    </tr>\n    <tr>\n      <th>10</th>\n      <td>N11</td>\n      <td>0.0095</td>\n      <td>0.0367</td>\n      <td>0.1781</td>\n      <td>0.5164</td>\n      <td>0.000447</td>\n      <td>0.0000</td>\n      <td>0.0166</td>\n      <td>0.0269</td>\n      <td>0.0085</td>\n      <td>...</td>\n      <td>0.000009</td>\n      <td>0.000032</td>\n      <td>0.000003</td>\n      <td>0.000040</td>\n      <td>0.000051</td>\n      <td>0.000779</td>\n      <td>13.97</td>\n      <td>13.2</td>\n      <td>12.976</td>\n      <td>0.224</td>\n    </tr>\n    <tr>\n      <th>11</th>\n      <td>N12</td>\n      <td>0.0040</td>\n      <td>0.0376</td>\n      <td>0.1465</td>\n      <td>0.5077</td>\n      <td>0.000983</td>\n      <td>0.0001</td>\n      <td>0.0156</td>\n      <td>0.0710</td>\n      <td>0.0068</td>\n      <td>...</td>\n      <td>0.000008</td>\n      <td>0.000025</td>\n      <td>0.000010</td>\n      <td>0.000091</td>\n      <td>0.000051</td>\n      <td>0.001213</td>\n      <td>15.05</td>\n      <td>13.2</td>\n      <td>12.963</td>\n      <td>0.237</td>\n    </tr>\n    <tr>\n      <th>12</th>\n      <td>N13</td>\n      <td>0.0046</td>\n      <td>0.0180</td>\n      <td>0.1308</td>\n      <td>0.4997</td>\n      <td>0.000699</td>\n      <td>0.0001</td>\n      <td>0.0278</td>\n      <td>0.1124</td>\n      <td>0.0062</td>\n      <td>...</td>\n      <td>0.000025</td>\n      <td>0.000000</td>\n      <td>0.000005</td>\n      <td>0.000063</td>\n      <td>0.000160</td>\n      <td>0.000638</td>\n      <td>15.22</td>\n      <td>13.2</td>\n      <td>12.961</td>\n      <td>0.239</td>\n    </tr>\n    <tr>\n      <th>13</th>\n      <td>N14A</td>\n      <td>0.0041</td>\n      <td>0.0415</td>\n      <td>0.1015</td>\n      <td>0.3856</td>\n      <td>0.000432</td>\n      <td>0.0003</td>\n      <td>0.0122</td>\n      <td>0.1932</td>\n      <td>0.0045</td>\n      <td>...</td>\n      <td>0.000004</td>\n      <td>0.000004</td>\n      <td>0.000005</td>\n      <td>0.000046</td>\n      <td>0.000082</td>\n      <td>0.000507</td>\n      <td>23.30</td>\n      <td>13.2</td>\n      <td>12.864</td>\n      <td>0.336</td>\n    </tr>\n    <tr>\n      <th>14</th>\n      <td>N14B</td>\n      <td>0.0034</td>\n      <td>0.0299</td>\n      <td>0.0769</td>\n      <td>0.3014</td>\n      <td>0.000099</td>\n      <td>0.0000</td>\n      <td>0.0087</td>\n      <td>0.2944</td>\n      <td>0.0036</td>\n      <td>...</td>\n      <td>0.000004</td>\n      <td>0.000009</td>\n      <td>0.000005</td>\n      <td>0.000029</td>\n      <td>0.000073</td>\n      <td>0.000409</td>\n      <td>27.72</td>\n      <td>13.2</td>\n      <td>12.811</td>\n      <td>0.389</td>\n    </tr>\n    <tr>\n      <th>15</th>\n      <td>N15</td>\n      <td>0.0143</td>\n      <td>0.0166</td>\n      <td>0.1599</td>\n      <td>0.6550</td>\n      <td>0.000187</td>\n      <td>0.0002</td>\n      <td>0.0365</td>\n      <td>0.0076</td>\n      <td>0.0068</td>\n      <td>...</td>\n      <td>0.000002</td>\n      <td>0.000017</td>\n      <td>0.000016</td>\n      <td>0.000054</td>\n      <td>0.000128</td>\n      <td>0.000344</td>\n      <td>5.38</td>\n      <td>13.2</td>\n      <td>13.079</td>\n      <td>0.121</td>\n    </tr>\n    <tr>\n      <th>16</th>\n      <td>N16</td>\n      <td>0.0021</td>\n      <td>0.1837</td>\n      <td>0.0029</td>\n      <td>0.0445</td>\n      <td>0.000000</td>\n      <td>0.0015</td>\n      <td>0.0009</td>\n      <td>0.3652</td>\n      <td>0.0003</td>\n      <td>...</td>\n      <td>0.000002</td>\n      <td>0.000002</td>\n      <td>0.000012</td>\n      <td>0.000022</td>\n      <td>0.000148</td>\n      <td>0.000320</td>\n      <td>46.13</td>\n      <td>13.2</td>\n      <td>12.590</td>\n      <td>0.610</td>\n    </tr>\n    <tr>\n      <th>17</th>\n      <td>N17</td>\n      <td>0.0060</td>\n      <td>0.0358</td>\n      <td>0.0947</td>\n      <td>0.3343</td>\n      <td>0.000218</td>\n      <td>0.0002</td>\n      <td>0.0196</td>\n      <td>0.2247</td>\n      <td>0.0042</td>\n      <td>...</td>\n      <td>0.000005</td>\n      <td>0.000000</td>\n      <td>0.000004</td>\n      <td>0.000076</td>\n      <td>0.000507</td>\n      <td>0.000454</td>\n      <td>24.97</td>\n      <td>13.2</td>\n      <td>12.844</td>\n      <td>0.356</td>\n    </tr>\n    <tr>\n      <th>18</th>\n      <td>N18</td>\n      <td>0.0054</td>\n      <td>0.0229</td>\n      <td>0.0754</td>\n      <td>0.2776</td>\n      <td>0.000027</td>\n      <td>0.0000</td>\n      <td>0.0151</td>\n      <td>0.3193</td>\n      <td>0.0033</td>\n      <td>...</td>\n      <td>0.000004</td>\n      <td>0.000003</td>\n      <td>0.000012</td>\n      <td>0.000054</td>\n      <td>0.000071</td>\n      <td>0.000313</td>\n      <td>27.97</td>\n      <td>13.2</td>\n      <td>12.808</td>\n      <td>0.392</td>\n    </tr>\n    <tr>\n      <th>19</th>\n      <td>N19</td>\n      <td>0.0302</td>\n      <td>0.0135</td>\n      <td>0.1655</td>\n      <td>0.6233</td>\n      <td>0.001154</td>\n      <td>0.0000</td>\n      <td>0.0415</td>\n      <td>0.0185</td>\n      <td>0.0082</td>\n      <td>...</td>\n      <td>0.000009</td>\n      <td>0.000052</td>\n      <td>0.000018</td>\n      <td>0.000020</td>\n      <td>0.000054</td>\n      <td>0.000542</td>\n      <td>5.38</td>\n      <td>13.2</td>\n      <td>13.079</td>\n      <td>0.121</td>\n    </tr>\n    <tr>\n      <th>20</th>\n      <td>N20</td>\n      <td>0.0059</td>\n      <td>0.0200</td>\n      <td>0.1678</td>\n      <td>0.5600</td>\n      <td>0.000461</td>\n      <td>0.0000</td>\n      <td>0.0191</td>\n      <td>0.0242</td>\n      <td>0.0073</td>\n      <td>...</td>\n      <td>0.000010</td>\n      <td>0.000020</td>\n      <td>0.000016</td>\n      <td>0.000048</td>\n      <td>0.000052</td>\n      <td>0.001173</td>\n      <td>12.22</td>\n      <td>13.2</td>\n      <td>12.997</td>\n      <td>0.203</td>\n    </tr>\n    <tr>\n      <th>21</th>\n      <td>N21</td>\n      <td>0.0067</td>\n      <td>0.0165</td>\n      <td>0.1706</td>\n      <td>0.5783</td>\n      <td>0.000235</td>\n      <td>0.0001</td>\n      <td>0.0262</td>\n      <td>0.0097</td>\n      <td>0.0086</td>\n      <td>...</td>\n      <td>0.000049</td>\n      <td>0.000000</td>\n      <td>0.000027</td>\n      <td>0.000085</td>\n      <td>0.000051</td>\n      <td>0.000610</td>\n      <td>9.63</td>\n      <td>13.2</td>\n      <td>13.030</td>\n      <td>0.170</td>\n    </tr>\n    <tr>\n      <th>22</th>\n      <td>N22</td>\n      <td>0.0036</td>\n      <td>0.0138</td>\n      <td>0.1221</td>\n      <td>0.3721</td>\n      <td>0.000226</td>\n      <td>0.0000</td>\n      <td>0.0115</td>\n      <td>0.1944</td>\n      <td>0.0065</td>\n      <td>...</td>\n      <td>0.000009</td>\n      <td>0.000015</td>\n      <td>0.000029</td>\n      <td>0.000052</td>\n      <td>0.000061</td>\n      <td>0.000411</td>\n      <td>23.72</td>\n      <td>13.2</td>\n      <td>12.859</td>\n      <td>0.341</td>\n    </tr>\n    <tr>\n      <th>23</th>\n      <td>N23</td>\n      <td>0.0077</td>\n      <td>0.0742</td>\n      <td>0.1556</td>\n      <td>0.5231</td>\n      <td>0.000324</td>\n      <td>0.0000</td>\n      <td>0.0168</td>\n      <td>0.0046</td>\n      <td>0.0072</td>\n      <td>...</td>\n      <td>0.000021</td>\n      <td>0.000000</td>\n      <td>0.000016</td>\n      <td>0.000076</td>\n      <td>0.000054</td>\n      <td>0.002659</td>\n      <td>11.55</td>\n      <td>13.2</td>\n      <td>13.005</td>\n      <td>0.195</td>\n    </tr>\n    <tr>\n      <th>24</th>\n      <td>N24</td>\n      <td>0.0326</td>\n      <td>0.0345</td>\n      <td>0.1721</td>\n      <td>0.5513</td>\n      <td>0.000739</td>\n      <td>0.0002</td>\n      <td>0.0194</td>\n      <td>0.0141</td>\n      <td>0.0086</td>\n      <td>...</td>\n      <td>0.000008</td>\n      <td>0.000017</td>\n      <td>0.000017</td>\n      <td>0.000066</td>\n      <td>0.000065</td>\n      <td>0.000887</td>\n      <td>8.88</td>\n      <td>13.2</td>\n      <td>8.880</td>\n      <td>4.320</td>\n    </tr>\n    <tr>\n      <th>25</th>\n      <td>N25</td>\n      <td>0.0128</td>\n      <td>0.0100</td>\n      <td>0.0515</td>\n      <td>0.7806</td>\n      <td>0.000152</td>\n      <td>0.0001</td>\n      <td>0.0063</td>\n      <td>0.0625</td>\n      <td>0.0021</td>\n      <td>...</td>\n      <td>0.000005</td>\n      <td>0.000001</td>\n      <td>0.000007</td>\n      <td>0.000053</td>\n      <td>0.000254</td>\n      <td>0.000142</td>\n      <td>7.47</td>\n      <td>13.2</td>\n      <td>13.054</td>\n      <td>0.146</td>\n    </tr>\n    <tr>\n      <th>26</th>\n      <td>N26</td>\n      <td>0.0051</td>\n      <td>0.0190</td>\n      <td>0.1910</td>\n      <td>0.3983</td>\n      <td>0.000082</td>\n      <td>0.0000</td>\n      <td>0.0257</td>\n      <td>0.0801</td>\n      <td>0.0057</td>\n      <td>...</td>\n      <td>0.000051</td>\n      <td>0.000000</td>\n      <td>0.000006</td>\n      <td>0.000085</td>\n      <td>0.000088</td>\n      <td>0.000852</td>\n      <td>19.22</td>\n      <td>13.2</td>\n      <td>12.913</td>\n      <td>0.287</td>\n    </tr>\n    <tr>\n      <th>27</th>\n      <td>N27</td>\n      <td>0.0151</td>\n      <td>0.0267</td>\n      <td>0.1374</td>\n      <td>0.5112</td>\n      <td>0.000179</td>\n      <td>0.0000</td>\n      <td>0.0240</td>\n      <td>0.0908</td>\n      <td>0.0069</td>\n      <td>...</td>\n      <td>0.000012</td>\n      <td>0.000000</td>\n      <td>0.000014</td>\n      <td>0.000048</td>\n      <td>0.000062</td>\n      <td>0.000501</td>\n      <td>12.97</td>\n      <td>13.2</td>\n      <td>12.988</td>\n      <td>0.212</td>\n    </tr>\n    <tr>\n      <th>28</th>\n      <td>N28</td>\n      <td>0.0102</td>\n      <td>0.0324</td>\n      <td>0.1659</td>\n      <td>0.5572</td>\n      <td>0.000156</td>\n      <td>0.0015</td>\n      <td>0.0293</td>\n      <td>0.0063</td>\n      <td>0.0080</td>\n      <td>...</td>\n      <td>0.000060</td>\n      <td>0.000000</td>\n      <td>0.000015</td>\n      <td>0.000048</td>\n      <td>0.000067</td>\n      <td>0.001317</td>\n      <td>9.97</td>\n      <td>13.2</td>\n      <td>13.024</td>\n      <td>0.176</td>\n    </tr>\n    <tr>\n      <th>29</th>\n      <td>N29</td>\n      <td>0.0366</td>\n      <td>0.0514</td>\n      <td>0.1317</td>\n      <td>0.5608</td>\n      <td>0.000257</td>\n      <td>0.0035</td>\n      <td>0.0243</td>\n      <td>0.0054</td>\n      <td>0.0074</td>\n      <td>...</td>\n      <td>0.000005</td>\n      <td>0.000005</td>\n      <td>0.000004</td>\n      <td>0.000070</td>\n      <td>0.001370</td>\n      <td>0.001633</td>\n      <td>7.80</td>\n      <td>13.2</td>\n      <td>13.050</td>\n      <td>0.150</td>\n    </tr>\n    <tr>\n      <th>30</th>\n      <td>N30</td>\n      <td>0.0449</td>\n      <td>0.0324</td>\n      <td>0.0967</td>\n      <td>0.3279</td>\n      <td>0.000226</td>\n      <td>0.0004</td>\n      <td>0.0131</td>\n      <td>0.1816</td>\n      <td>0.0037</td>\n      <td>...</td>\n      <td>0.000007</td>\n      <td>0.000000</td>\n      <td>0.000020</td>\n      <td>0.000061</td>\n      <td>0.002085</td>\n      <td>0.000852</td>\n      <td>22.55</td>\n      <td>13.2</td>\n      <td>12.873</td>\n      <td>0.327</td>\n    </tr>\n    <tr>\n      <th>31</th>\n      <td>N31</td>\n      <td>0.0216</td>\n      <td>0.0376</td>\n      <td>0.0996</td>\n      <td>0.3876</td>\n      <td>0.000130</td>\n      <td>0.0004</td>\n      <td>0.0162</td>\n      <td>0.1786</td>\n      <td>0.0052</td>\n      <td>...</td>\n      <td>0.000017</td>\n      <td>0.000000</td>\n      <td>0.000002</td>\n      <td>0.000058</td>\n      <td>0.000660</td>\n      <td>0.001424</td>\n      <td>20.05</td>\n      <td>13.2</td>\n      <td>12.903</td>\n      <td>0.297</td>\n    </tr>\n    <tr>\n      <th>32</th>\n      <td>N32</td>\n      <td>0.0148</td>\n      <td>0.0162</td>\n      <td>0.1226</td>\n      <td>0.5594</td>\n      <td>0.000088</td>\n      <td>0.0000</td>\n      <td>0.0166</td>\n      <td>0.0767</td>\n      <td>0.0075</td>\n      <td>...</td>\n      <td>0.000015</td>\n      <td>0.000006</td>\n      <td>0.000003</td>\n      <td>0.000070</td>\n      <td>0.000374</td>\n      <td>0.001363</td>\n      <td>13.97</td>\n      <td>13.2</td>\n      <td>12.976</td>\n      <td>0.224</td>\n    </tr>\n    <tr>\n      <th>33</th>\n      <td>N33</td>\n      <td>0.0057</td>\n      <td>0.0321</td>\n      <td>0.1062</td>\n      <td>0.4496</td>\n      <td>0.000779</td>\n      <td>0.0000</td>\n      <td>0.0052</td>\n      <td>0.1183</td>\n      <td>0.0146</td>\n      <td>...</td>\n      <td>0.000037</td>\n      <td>0.000000</td>\n      <td>0.000013</td>\n      <td>0.000078</td>\n      <td>0.000060</td>\n      <td>0.003223</td>\n      <td>10.55</td>\n      <td>13.2</td>\n      <td>13.017</td>\n      <td>0.183</td>\n    </tr>\n    <tr>\n      <th>34</th>\n      <td>N34</td>\n      <td>0.0033</td>\n      <td>0.0175</td>\n      <td>0.1275</td>\n      <td>0.4377</td>\n      <td>0.000288</td>\n      <td>0.0002</td>\n      <td>0.0178</td>\n      <td>0.1497</td>\n      <td>0.0068</td>\n      <td>...</td>\n      <td>0.000017</td>\n      <td>0.000000</td>\n      <td>NaN</td>\n      <td>0.000049</td>\n      <td>0.000056</td>\n      <td>0.000993</td>\n      <td>19.55</td>\n      <td>13.2</td>\n      <td>12.909</td>\n      <td>0.291</td>\n    </tr>\n    <tr>\n      <th>35</th>\n      <td>N35</td>\n      <td>0.0105</td>\n      <td>0.0299</td>\n      <td>0.1502</td>\n      <td>0.5559</td>\n      <td>0.000946</td>\n      <td>0.0003</td>\n      <td>0.0223</td>\n      <td>0.0188</td>\n      <td>0.0093</td>\n      <td>...</td>\n      <td>0.000012</td>\n      <td>0.000012</td>\n      <td>0.000002</td>\n      <td>0.000088</td>\n      <td>0.000052</td>\n      <td>0.001138</td>\n      <td>13.88</td>\n      <td>13.2</td>\n      <td>12.977</td>\n      <td>0.223</td>\n    </tr>\n    <tr>\n      <th>36</th>\n      <td>N36</td>\n      <td>0.0211</td>\n      <td>0.0383</td>\n      <td>0.1494</td>\n      <td>0.5564</td>\n      <td>0.000515</td>\n      <td>0.0000</td>\n      <td>0.0278</td>\n      <td>0.0170</td>\n      <td>0.0084</td>\n      <td>...</td>\n      <td>0.000012</td>\n      <td>0.000002</td>\n      <td>0.000000</td>\n      <td>0.000133</td>\n      <td>0.000356</td>\n      <td>0.001007</td>\n      <td>11.47</td>\n      <td>13.2</td>\n      <td>13.006</td>\n      <td>0.194</td>\n    </tr>\n    <tr>\n      <th>37</th>\n      <td>N37</td>\n      <td>0.0075</td>\n      <td>0.0333</td>\n      <td>0.0401</td>\n      <td>0.5617</td>\n      <td>0.000267</td>\n      <td>0.0002</td>\n      <td>0.0033</td>\n      <td>0.1731</td>\n      <td>0.0016</td>\n      <td>...</td>\n      <td>0.000007</td>\n      <td>0.000000</td>\n      <td>0.000005</td>\n      <td>0.000015</td>\n      <td>0.000065</td>\n      <td>0.000537</td>\n      <td>17.72</td>\n      <td>13.2</td>\n      <td>12.931</td>\n      <td>0.269</td>\n    </tr>\n    <tr>\n      <th>38</th>\n      <td>N38</td>\n      <td>0.0091</td>\n      <td>0.0379</td>\n      <td>0.1154</td>\n      <td>0.3705</td>\n      <td>0.000437</td>\n      <td>0.0001</td>\n      <td>0.0251</td>\n      <td>0.1771</td>\n      <td>0.0058</td>\n      <td>...</td>\n      <td>0.000005</td>\n      <td>0.000008</td>\n      <td>0.000015</td>\n      <td>0.000049</td>\n      <td>0.000105</td>\n      <td>0.000611</td>\n      <td>20.55</td>\n      <td>13.2</td>\n      <td>12.897</td>\n      <td>0.303</td>\n    </tr>\n    <tr>\n      <th>39</th>\n      <td>N39</td>\n      <td>0.0083</td>\n      <td>0.0379</td>\n      <td>0.1172</td>\n      <td>0.4368</td>\n      <td>0.002702</td>\n      <td>0.0002</td>\n      <td>0.0176</td>\n      <td>0.1310</td>\n      <td>0.0073</td>\n      <td>...</td>\n      <td>0.000009</td>\n      <td>0.000015</td>\n      <td>0.000026</td>\n      <td>0.000055</td>\n      <td>0.000053</td>\n      <td>0.000752</td>\n      <td>19.30</td>\n      <td>13.2</td>\n      <td>12.912</td>\n      <td>0.288</td>\n    </tr>\n    <tr>\n      <th>40</th>\n      <td>N40</td>\n      <td>0.0088</td>\n      <td>0.0575</td>\n      <td>0.1139</td>\n      <td>0.3684</td>\n      <td>0.000216</td>\n      <td>0.0002</td>\n      <td>0.0175</td>\n      <td>0.1532</td>\n      <td>0.0058</td>\n      <td>...</td>\n      <td>0.000006</td>\n      <td>0.000010</td>\n      <td>0.000008</td>\n      <td>0.000071</td>\n      <td>0.000118</td>\n      <td>0.000597</td>\n      <td>23.63</td>\n      <td>13.2</td>\n      <td>12.860</td>\n      <td>0.340</td>\n    </tr>\n    <tr>\n      <th>41</th>\n      <td>N41</td>\n      <td>0.0034</td>\n      <td>0.0476</td>\n      <td>0.0439</td>\n      <td>0.2574</td>\n      <td>0.000000</td>\n      <td>0.0003</td>\n      <td>0.0006</td>\n      <td>0.3355</td>\n      <td>0.0015</td>\n      <td>...</td>\n      <td>0.000006</td>\n      <td>0.000004</td>\n      <td>0.000000</td>\n      <td>0.000040</td>\n      <td>0.000160</td>\n      <td>0.001047</td>\n      <td>30.30</td>\n      <td>13.2</td>\n      <td>12.780</td>\n      <td>0.420</td>\n    </tr>\n    <tr>\n      <th>42</th>\n      <td>N42</td>\n      <td>0.0205</td>\n      <td>0.0111</td>\n      <td>0.1038</td>\n      <td>0.5721</td>\n      <td>0.000486</td>\n      <td>0.0002</td>\n      <td>0.0369</td>\n      <td>0.1215</td>\n      <td>0.0033</td>\n      <td>...</td>\n      <td>0.000006</td>\n      <td>0.000032</td>\n      <td>0.000000</td>\n      <td>0.000001</td>\n      <td>0.000060</td>\n      <td>0.000189</td>\n      <td>12.80</td>\n      <td>13.2</td>\n      <td>12.990</td>\n      <td>0.210</td>\n    </tr>\n    <tr>\n      <th>43</th>\n      <td>N43</td>\n      <td>0.0204</td>\n      <td>0.0099</td>\n      <td>0.0990</td>\n      <td>0.6067</td>\n      <td>0.000212</td>\n      <td>0.0000</td>\n      <td>0.0381</td>\n      <td>0.1192</td>\n      <td>0.0009</td>\n      <td>...</td>\n      <td>0.000008</td>\n      <td>0.000031</td>\n      <td>0.000002</td>\n      <td>0.000032</td>\n      <td>0.000054</td>\n      <td>0.000075</td>\n      <td>11.47</td>\n      <td>13.2</td>\n      <td>13.006</td>\n      <td>0.194</td>\n    </tr>\n    <tr>\n      <th>44</th>\n      <td>N44</td>\n      <td>0.0319</td>\n      <td>0.0085</td>\n      <td>0.1526</td>\n      <td>0.6734</td>\n      <td>0.000269</td>\n      <td>0.0000</td>\n      <td>0.0420</td>\n      <td>0.0175</td>\n      <td>0.0057</td>\n      <td>...</td>\n      <td>0.000008</td>\n      <td>0.000040</td>\n      <td>0.000022</td>\n      <td>0.000034</td>\n      <td>0.000054</td>\n      <td>0.000358</td>\n      <td>4.55</td>\n      <td>13.2</td>\n      <td>13.089</td>\n      <td>0.111</td>\n    </tr>\n    <tr>\n      <th>45</th>\n      <td>N45</td>\n      <td>0.0105</td>\n      <td>0.0255</td>\n      <td>0.0892</td>\n      <td>0.5116</td>\n      <td>0.000322</td>\n      <td>0.0000</td>\n      <td>0.0145</td>\n      <td>0.1504</td>\n      <td>0.0042</td>\n      <td>...</td>\n      <td>0.000004</td>\n      <td>0.000007</td>\n      <td>0.000026</td>\n      <td>0.000036</td>\n      <td>0.000059</td>\n      <td>0.000748</td>\n      <td>17.22</td>\n      <td>13.2</td>\n      <td>12.937</td>\n      <td>0.263</td>\n    </tr>\n    <tr>\n      <th>46</th>\n      <td>N46</td>\n      <td>0.0343</td>\n      <td>0.0120</td>\n      <td>0.1559</td>\n      <td>0.6595</td>\n      <td>0.000228</td>\n      <td>0.0000</td>\n      <td>0.0479</td>\n      <td>0.0040</td>\n      <td>0.0069</td>\n      <td>...</td>\n      <td>0.000008</td>\n      <td>0.000044</td>\n      <td>0.000036</td>\n      <td>0.000042</td>\n      <td>0.000057</td>\n      <td>0.000085</td>\n      <td>5.47</td>\n      <td>13.2</td>\n      <td>13.078</td>\n      <td>0.122</td>\n    </tr>\n    <tr>\n      <th>47</th>\n      <td>N47</td>\n      <td>0.0223</td>\n      <td>0.0069</td>\n      <td>0.1431</td>\n      <td>0.7116</td>\n      <td>0.000298</td>\n      <td>0.0059</td>\n      <td>0.0401</td>\n      <td>0.0061</td>\n      <td>0.0050</td>\n      <td>...</td>\n      <td>0.000007</td>\n      <td>0.000034</td>\n      <td>0.000000</td>\n      <td>0.000065</td>\n      <td>0.000060</td>\n      <td>0.000589</td>\n      <td>5.30</td>\n      <td>13.2</td>\n      <td>13.080</td>\n      <td>0.120</td>\n    </tr>\n    <tr>\n      <th>48</th>\n      <td>N48</td>\n      <td>0.0053</td>\n      <td>0.0358</td>\n      <td>0.1129</td>\n      <td>0.5622</td>\n      <td>0.000156</td>\n      <td>0.0000</td>\n      <td>0.0230</td>\n      <td>0.0766</td>\n      <td>0.0060</td>\n      <td>...</td>\n      <td>0.000058</td>\n      <td>0.000000</td>\n      <td>0.000008</td>\n      <td>0.000043</td>\n      <td>0.000199</td>\n      <td>0.000630</td>\n      <td>10.30</td>\n      <td>13.2</td>\n      <td>13.020</td>\n      <td>0.180</td>\n    </tr>\n    <tr>\n      <th>49</th>\n      <td>N49</td>\n      <td>0.0257</td>\n      <td>0.0091</td>\n      <td>0.1404</td>\n      <td>0.6897</td>\n      <td>0.000562</td>\n      <td>0.0004</td>\n      <td>0.0417</td>\n      <td>0.0076</td>\n      <td>0.0045</td>\n      <td>...</td>\n      <td>0.000010</td>\n      <td>0.000031</td>\n      <td>0.000000</td>\n      <td>0.000017</td>\n      <td>0.000066</td>\n      <td>0.000405</td>\n      <td>6.72</td>\n      <td>13.2</td>\n      <td>13.063</td>\n      <td>0.137</td>\n    </tr>\n    <tr>\n      <th>50</th>\n      <td>N50</td>\n      <td>0.0080</td>\n      <td>0.0184</td>\n      <td>0.0723</td>\n      <td>0.2941</td>\n      <td>0.000000</td>\n      <td>NaN</td>\n      <td>0.0148</td>\n      <td>0.3063</td>\n      <td>0.0032</td>\n      <td>...</td>\n      <td>0.000005</td>\n      <td>0.000003</td>\n      <td>0.000020</td>\n      <td>0.000042</td>\n      <td>0.000180</td>\n      <td>0.000759</td>\n      <td>28.13</td>\n      <td>13.2</td>\n      <td>12.806</td>\n      <td>0.394</td>\n    </tr>\n    <tr>\n      <th>51</th>\n      <td>N51A</td>\n      <td>0.0198</td>\n      <td>0.0641</td>\n      <td>0.1083</td>\n      <td>0.4495</td>\n      <td>0.000571</td>\n      <td>0.0000</td>\n      <td>0.0107</td>\n      <td>0.1104</td>\n      <td>0.0094</td>\n      <td>...</td>\n      <td>0.000003</td>\n      <td>0.000005</td>\n      <td>0.000005</td>\n      <td>0.000114</td>\n      <td>0.000053</td>\n      <td>0.001362</td>\n      <td>14.72</td>\n      <td>13.2</td>\n      <td>12.967</td>\n      <td>0.233</td>\n    </tr>\n    <tr>\n      <th>52</th>\n      <td>N51B</td>\n      <td>0.0173</td>\n      <td>0.0385</td>\n      <td>0.1402</td>\n      <td>0.5596</td>\n      <td>0.000405</td>\n      <td>0.0001</td>\n      <td>0.0195</td>\n      <td>0.0301</td>\n      <td>0.0112</td>\n      <td>...</td>\n      <td>0.000008</td>\n      <td>0.000000</td>\n      <td>0.000004</td>\n      <td>0.000153</td>\n      <td>0.000058</td>\n      <td>0.001630</td>\n      <td>10.05</td>\n      <td>13.2</td>\n      <td>13.023</td>\n      <td>0.177</td>\n    </tr>\n    <tr>\n      <th>53</th>\n      <td>N52</td>\n      <td>0.0085</td>\n      <td>0.0325</td>\n      <td>0.1616</td>\n      <td>0.4375</td>\n      <td>0.000365</td>\n      <td>0.0000</td>\n      <td>0.0238</td>\n      <td>0.0705</td>\n      <td>0.0080</td>\n      <td>...</td>\n      <td>0.000012</td>\n      <td>0.000018</td>\n      <td>0.000000</td>\n      <td>0.000096</td>\n      <td>0.000061</td>\n      <td>0.001172</td>\n      <td>18.80</td>\n      <td>13.2</td>\n      <td>12.918</td>\n      <td>0.282</td>\n    </tr>\n    <tr>\n      <th>54</th>\n      <td>N53</td>\n      <td>0.0000</td>\n      <td>0.0000</td>\n      <td>0.0000</td>\n      <td>0.0000</td>\n      <td>0.000000</td>\n      <td>0.0024</td>\n      <td>0.0000</td>\n      <td>0.0000</td>\n      <td>0.0000</td>\n      <td>...</td>\n      <td>0.000000</td>\n      <td>0.000000</td>\n      <td>0.000000</td>\n      <td>0.000000</td>\n      <td>0.000000</td>\n      <td>0.000000</td>\n      <td>0.00</td>\n      <td>0.0</td>\n      <td>0.000</td>\n      <td>0.000</td>\n    </tr>\n    <tr>\n      <th>55</th>\n      <td>N54A</td>\n      <td>0.0405</td>\n      <td>0.0114</td>\n      <td>0.1233</td>\n      <td>0.6586</td>\n      <td>0.000116</td>\n      <td>0.0017</td>\n      <td>0.0188</td>\n      <td>0.0053</td>\n      <td>0.0057</td>\n      <td>...</td>\n      <td>0.000011</td>\n      <td>0.000015</td>\n      <td>0.000000</td>\n      <td>0.000092</td>\n      <td>0.001383</td>\n      <td>0.001368</td>\n      <td>10.47</td>\n      <td>13.2</td>\n      <td>13.018</td>\n      <td>0.182</td>\n    </tr>\n    <tr>\n      <th>56</th>\n      <td>N54B</td>\n      <td>0.0320</td>\n      <td>0.0084</td>\n      <td>0.1039</td>\n      <td>0.6903</td>\n      <td>0.000002</td>\n      <td>0.0000</td>\n      <td>0.0243</td>\n      <td>0.0203</td>\n      <td>0.0042</td>\n      <td>...</td>\n      <td>0.000009</td>\n      <td>0.000017</td>\n      <td>0.000000</td>\n      <td>NaN</td>\n      <td>0.001387</td>\n      <td>0.000748</td>\n      <td>6.97</td>\n      <td>13.2</td>\n      <td>13.060</td>\n      <td>0.140</td>\n    </tr>\n  </tbody>\n</table>\n<p>57 rows × 34 columns</p>\n</div>"
     },
     "execution_count": 25,
     "metadata": {},
     "output_type": "execute_result"
    }
   ],
   "source": [
    "# importing numpy and pandas libraries to read the data\n",
    "\n",
    "# surpress Warnings\n",
    "import warnings\n",
    "warnings.filterwarnings('ignore')\n",
    "\n",
    "# import the numpy, pandas and matplotlib package\n",
    "import pandas as pd\n",
    "import csv\n",
    "import numpy as np\n",
    "\n",
    "# read data csv file, and view some sample records\n",
    "\n",
    "LOI = pd.read_csv('LOI_final2.csv', delimiter=',')\n",
    "# LOI_tupple = [tuple(row) for row in LOI.values]\n",
    "LOI\n"
   ]
  },
  {
   "cell_type": "markdown",
   "metadata": {},
   "source": [
    "We use functions like shape, info and describe to understand and verify if there aren't anomalous values on the dataset. `Shape` gives the rows and columns number ... in other the shape of the dataset. `Info` function to identify if there are any null values in the data, and `describe` function provide some data characterization to identify."
   ]
  },
  {
   "cell_type": "code",
   "execution_count": 26,
   "metadata": {
    "pycharm": {
     "name": "#%%\n"
    }
   },
   "outputs": [
    {
     "data": {
      "text/plain": "(57, 34)"
     },
     "execution_count": 26,
     "metadata": {},
     "output_type": "execute_result"
    }
   ],
   "source": [
    "# Shape of our dataset:\n",
    "LOI.shape"
   ]
  },
  {
   "cell_type": "code",
   "execution_count": 27,
   "metadata": {
    "pycharm": {
     "name": "#%%\n"
    }
   },
   "outputs": [
    {
     "name": "stdout",
     "output_type": "stream",
     "text": [
      "<class 'pandas.core.frame.DataFrame'>\n",
      "RangeIndex: 57 entries, 0 to 56\n",
      "Data columns (total 34 columns):\n",
      " #   Column          Non-Null Count  Dtype  \n",
      "---  ------          --------------  -----  \n",
      " 0   Sample          57 non-null     object \n",
      " 1   Na2O            57 non-null     float64\n",
      " 2   MgO             57 non-null     float64\n",
      " 3   Al2O3           57 non-null     float64\n",
      " 4   SiO2            57 non-null     float64\n",
      " 5   P2O5            57 non-null     float64\n",
      " 6   S               56 non-null     float64\n",
      " 7   K2O             57 non-null     float64\n",
      " 8   CaO             57 non-null     float64\n",
      " 9   TiO2            57 non-null     float64\n",
      " 10  Fe2O3           57 non-null     float64\n",
      " 11  Rb              57 non-null     float64\n",
      " 12  Sr              57 non-null     float64\n",
      " 13  Y               57 non-null     float64\n",
      " 14  Zr              57 non-null     float64\n",
      " 15  Nb              57 non-null     float64\n",
      " 16  Ba              57 non-null     float64\n",
      " 17  Th              57 non-null     object \n",
      " 18  Cr              57 non-null     float64\n",
      " 19  Co              55 non-null     float64\n",
      " 20  Ni              57 non-null     float64\n",
      " 21  Cu              57 non-null     float64\n",
      " 22  Zn              57 non-null     float64\n",
      " 23  Ga              57 non-null     float64\n",
      " 24  As              57 non-null     float64\n",
      " 25  Pb              57 non-null     float64\n",
      " 26  Sn              56 non-null     float64\n",
      " 27  V               56 non-null     float64\n",
      " 28  Cl              57 non-null     float64\n",
      " 29  Mn              57 non-null     float64\n",
      " 30  LOI             57 non-null     float64\n",
      " 31  initial weight  57 non-null     float64\n",
      " 32  final weight    57 non-null     float64\n",
      " 33  Weight          57 non-null     float64\n",
      "dtypes: float64(32), object(2)\n",
      "memory usage: 15.3+ KB\n"
     ]
    }
   ],
   "source": [
    "# Info or our dataset:\n",
    "LOI.info()"
   ]
  },
  {
   "cell_type": "code",
   "execution_count": 28,
   "metadata": {
    "pycharm": {
     "name": "#%%\n"
    }
   },
   "outputs": [
    {
     "data": {
      "text/plain": "            Na2O        MgO      Al2O3       SiO2       P2O5          S  \\\ncount  57.000000  57.000000  57.000000  57.000000  57.000000  56.000000   \nmean    0.014533   0.031465   0.123811   0.499712   0.000413   0.000393   \nstd     0.011635   0.027716   0.042132   0.151821   0.000430   0.000986   \nmin     0.000000   0.000000   0.000000   0.000000   0.000000   0.000000   \n25%     0.005500   0.016200   0.103100   0.436800   0.000156   0.000000   \n50%     0.009500   0.029900   0.127500   0.551300   0.000288   0.000050   \n75%     0.021100   0.037600   0.154300   0.578300   0.000524   0.000225   \nmax     0.044900   0.183700   0.191000   0.780600   0.002702   0.005900   \n\n             K2O        CaO       TiO2      Fe2O3  ...         As         Pb  \\\ncount  57.000000  57.000000  57.000000  57.000000  ...  57.000000  57.000000   \nmean    0.021042   0.093588   0.006112   0.053147  ...   0.000012   0.000011   \nstd     0.011665   0.096484   0.002885   0.028083  ...   0.000013   0.000013   \nmin     0.000000   0.000000   0.000000   0.000000  ...   0.000000   0.000000   \n25%     0.014500   0.017000   0.004200   0.033100  ...   0.000005   0.000000   \n50%     0.019100   0.062500   0.006500   0.053200  ...   0.000008   0.000006   \n75%     0.025700   0.150400   0.007700   0.071300  ...   0.000012   0.000017   \nmax     0.047900   0.365200   0.014600   0.154200  ...   0.000060   0.000052   \n\n              Sn          V         Cl         Mn        LOI  initial weight  \\\ncount  56.000000  56.000000  57.000000  57.000000  57.000000       57.000000   \nmean    0.000010   0.000060   0.000221   0.000816  14.486842       12.968421   \nstd     0.000009   0.000032   0.000399   0.000580   8.219142        1.748383   \nmin     0.000000   0.000000   0.000000   0.000000   0.000000        0.000000   \n25%     0.000003   0.000041   0.000054   0.000432   8.880000       13.200000   \n50%     0.000008   0.000054   0.000065   0.000748  12.970000       13.200000   \n75%     0.000016   0.000080   0.000160   0.001055  19.220000       13.200000   \nmax     0.000036   0.000153   0.002085   0.003223  46.130000       13.200000   \n\n       final weight     Weight  \ncount     57.000000  57.000000  \nmean      12.683825   0.284596  \nstd        1.801762   0.568919  \nmin        0.000000  -0.772000  \n25%       12.909000   0.150000  \n50%       12.977000   0.212000  \n75%       13.030000   0.288000  \nmax       13.972000   4.320000  \n\n[8 rows x 32 columns]",
      "text/html": "<div>\n<style scoped>\n    .dataframe tbody tr th:only-of-type {\n        vertical-align: middle;\n    }\n\n    .dataframe tbody tr th {\n        vertical-align: top;\n    }\n\n    .dataframe thead th {\n        text-align: right;\n    }\n</style>\n<table border=\"1\" class=\"dataframe\">\n  <thead>\n    <tr style=\"text-align: right;\">\n      <th></th>\n      <th>Na2O</th>\n      <th>MgO</th>\n      <th>Al2O3</th>\n      <th>SiO2</th>\n      <th>P2O5</th>\n      <th>S</th>\n      <th>K2O</th>\n      <th>CaO</th>\n      <th>TiO2</th>\n      <th>Fe2O3</th>\n      <th>...</th>\n      <th>As</th>\n      <th>Pb</th>\n      <th>Sn</th>\n      <th>V</th>\n      <th>Cl</th>\n      <th>Mn</th>\n      <th>LOI</th>\n      <th>initial weight</th>\n      <th>final weight</th>\n      <th>Weight</th>\n    </tr>\n  </thead>\n  <tbody>\n    <tr>\n      <th>count</th>\n      <td>57.000000</td>\n      <td>57.000000</td>\n      <td>57.000000</td>\n      <td>57.000000</td>\n      <td>57.000000</td>\n      <td>56.000000</td>\n      <td>57.000000</td>\n      <td>57.000000</td>\n      <td>57.000000</td>\n      <td>57.000000</td>\n      <td>...</td>\n      <td>57.000000</td>\n      <td>57.000000</td>\n      <td>56.000000</td>\n      <td>56.000000</td>\n      <td>57.000000</td>\n      <td>57.000000</td>\n      <td>57.000000</td>\n      <td>57.000000</td>\n      <td>57.000000</td>\n      <td>57.000000</td>\n    </tr>\n    <tr>\n      <th>mean</th>\n      <td>0.014533</td>\n      <td>0.031465</td>\n      <td>0.123811</td>\n      <td>0.499712</td>\n      <td>0.000413</td>\n      <td>0.000393</td>\n      <td>0.021042</td>\n      <td>0.093588</td>\n      <td>0.006112</td>\n      <td>0.053147</td>\n      <td>...</td>\n      <td>0.000012</td>\n      <td>0.000011</td>\n      <td>0.000010</td>\n      <td>0.000060</td>\n      <td>0.000221</td>\n      <td>0.000816</td>\n      <td>14.486842</td>\n      <td>12.968421</td>\n      <td>12.683825</td>\n      <td>0.284596</td>\n    </tr>\n    <tr>\n      <th>std</th>\n      <td>0.011635</td>\n      <td>0.027716</td>\n      <td>0.042132</td>\n      <td>0.151821</td>\n      <td>0.000430</td>\n      <td>0.000986</td>\n      <td>0.011665</td>\n      <td>0.096484</td>\n      <td>0.002885</td>\n      <td>0.028083</td>\n      <td>...</td>\n      <td>0.000013</td>\n      <td>0.000013</td>\n      <td>0.000009</td>\n      <td>0.000032</td>\n      <td>0.000399</td>\n      <td>0.000580</td>\n      <td>8.219142</td>\n      <td>1.748383</td>\n      <td>1.801762</td>\n      <td>0.568919</td>\n    </tr>\n    <tr>\n      <th>min</th>\n      <td>0.000000</td>\n      <td>0.000000</td>\n      <td>0.000000</td>\n      <td>0.000000</td>\n      <td>0.000000</td>\n      <td>0.000000</td>\n      <td>0.000000</td>\n      <td>0.000000</td>\n      <td>0.000000</td>\n      <td>0.000000</td>\n      <td>...</td>\n      <td>0.000000</td>\n      <td>0.000000</td>\n      <td>0.000000</td>\n      <td>0.000000</td>\n      <td>0.000000</td>\n      <td>0.000000</td>\n      <td>0.000000</td>\n      <td>0.000000</td>\n      <td>0.000000</td>\n      <td>-0.772000</td>\n    </tr>\n    <tr>\n      <th>25%</th>\n      <td>0.005500</td>\n      <td>0.016200</td>\n      <td>0.103100</td>\n      <td>0.436800</td>\n      <td>0.000156</td>\n      <td>0.000000</td>\n      <td>0.014500</td>\n      <td>0.017000</td>\n      <td>0.004200</td>\n      <td>0.033100</td>\n      <td>...</td>\n      <td>0.000005</td>\n      <td>0.000000</td>\n      <td>0.000003</td>\n      <td>0.000041</td>\n      <td>0.000054</td>\n      <td>0.000432</td>\n      <td>8.880000</td>\n      <td>13.200000</td>\n      <td>12.909000</td>\n      <td>0.150000</td>\n    </tr>\n    <tr>\n      <th>50%</th>\n      <td>0.009500</td>\n      <td>0.029900</td>\n      <td>0.127500</td>\n      <td>0.551300</td>\n      <td>0.000288</td>\n      <td>0.000050</td>\n      <td>0.019100</td>\n      <td>0.062500</td>\n      <td>0.006500</td>\n      <td>0.053200</td>\n      <td>...</td>\n      <td>0.000008</td>\n      <td>0.000006</td>\n      <td>0.000008</td>\n      <td>0.000054</td>\n      <td>0.000065</td>\n      <td>0.000748</td>\n      <td>12.970000</td>\n      <td>13.200000</td>\n      <td>12.977000</td>\n      <td>0.212000</td>\n    </tr>\n    <tr>\n      <th>75%</th>\n      <td>0.021100</td>\n      <td>0.037600</td>\n      <td>0.154300</td>\n      <td>0.578300</td>\n      <td>0.000524</td>\n      <td>0.000225</td>\n      <td>0.025700</td>\n      <td>0.150400</td>\n      <td>0.007700</td>\n      <td>0.071300</td>\n      <td>...</td>\n      <td>0.000012</td>\n      <td>0.000017</td>\n      <td>0.000016</td>\n      <td>0.000080</td>\n      <td>0.000160</td>\n      <td>0.001055</td>\n      <td>19.220000</td>\n      <td>13.200000</td>\n      <td>13.030000</td>\n      <td>0.288000</td>\n    </tr>\n    <tr>\n      <th>max</th>\n      <td>0.044900</td>\n      <td>0.183700</td>\n      <td>0.191000</td>\n      <td>0.780600</td>\n      <td>0.002702</td>\n      <td>0.005900</td>\n      <td>0.047900</td>\n      <td>0.365200</td>\n      <td>0.014600</td>\n      <td>0.154200</td>\n      <td>...</td>\n      <td>0.000060</td>\n      <td>0.000052</td>\n      <td>0.000036</td>\n      <td>0.000153</td>\n      <td>0.002085</td>\n      <td>0.003223</td>\n      <td>46.130000</td>\n      <td>13.200000</td>\n      <td>13.972000</td>\n      <td>4.320000</td>\n    </tr>\n  </tbody>\n</table>\n<p>8 rows × 32 columns</p>\n</div>"
     },
     "execution_count": 28,
     "metadata": {},
     "output_type": "execute_result"
    }
   ],
   "source": [
    "# Describe our dataset:\n",
    "LOI.describe()"
   ]
  },
  {
   "cell_type": "markdown",
   "metadata": {
    "pycharm": {
     "name": "#%% md\n"
    }
   },
   "source": [
    "#### 2. Visualizing the data:\n",
    "On this step our aim is to visualize data to understand and try to establish correlations amongst the different parameters."
   ]
  },
  {
   "cell_type": "code",
   "execution_count": 29,
   "metadata": {
    "pycharm": {
     "name": "#%%\n"
    },
    "scrolled": true
   },
   "outputs": [
    {
     "data": {
      "text/plain": "<Figure size 864x288 with 4 Axes>",
      "image/png": "[encoded data removed]"
     },
     "metadata": {
      "needs_background": "light"
     },
     "output_type": "display_data"
    }
   ],
   "source": [
    "# Import matplotlib and seaborn libraries to visualize the data\n",
    "import matplotlib.pyplot as plt\n",
    "import seaborn as sns\n",
    "\n",
    "# Using pairplot we'll visualize the data for correlation\n",
    "sns.pairplot(LOI, x_vars=['LOI','final weight','Weight'],\n",
    "             y_vars='LOI', size=4, aspect=1, kind='scatter')\n",
    "plt.show()"
   ]
  },
  {
   "cell_type": "markdown",
   "metadata": {
    "pycharm": {
     "name": "#%% md\n"
    }
   },
   "source": [
    "In case patterns aren't visible we can use a heatmap from the `seaborn` package."
   ]
  },
  {
   "cell_type": "code",
   "execution_count": 30,
   "metadata": {
    "pycharm": {
     "name": "#%%\n"
    }
   },
   "outputs": [
    {
     "data": {
      "text/plain": "<Figure size 1152x648 with 2 Axes>",
      "image/png": "[encoded data removed]"
     },
     "metadata": {
      "needs_background": "light"
     },
     "output_type": "display_data"
    }
   ],
   "source": [
    "# Visualizing the data using heatmap\n",
    "plt.figure(figsize=(16,9))\n",
    "'''\n",
    "Adjust heatmap color scheme with one of following options:\n",
    "Accent, Accent_r, Blues, Blues_r, BrBG, BrBG_r, BuGn, BuGn_r, BuPu, BuPu_r, CMRmap, CMRmap_r, Dark2, Dark2_r, GnBu, GnBu_r, Greens, Greens_r, Greys, Greys_r, OrRd, OrRd_r, Oranges, Oranges_r, PRGn, PRGn_r, Paired, Paired_r, Pastel1, Pastel1_r, Pastel2, Pastel2_r, PiYG,\n",
    "PiYG_r, PuBu, PuBuGn, PuBuGn_r, PuBu_r, PuOr, PuOr_r, PuRd, PuRd_r, Purples, Purples_r, RdBu, RdBu_r, RdGy, RdGy_r, RdPu, RdPu_r, RdYlBu, RdYlBu_r, RdYlGn, RdYlGn_r, Reds, Reds_r, Set1, Set1_r, Set2, Set2_r, Set3, Set3_r, Spectral, Spectral_r, Wistia, Wistia_r, YlGn, YlGnBu, YlGnBu_r, YlGn_r,\n",
    "YlOrBr, YlOrBr_r, YlOrRd, YlOrRd_r, afmhot, afmhot_r, autumn, autumn_r, binary, binary_r, bone, bone_r, brg, brg_r, bwr, bwr_r, cividis, cividis_r, cool, cool_r, coolwarm, coolwarm_r, copper, copper_r, cubehelix, cubehelix_r, flag, flag_r, gist_earth, gist_earth_r, gist_gray, gist_gray_r,\n",
    "gist_heat, gist_heat_r, gist_ncar, gist_ncar_r, gist_rainbow, gist_rainbow_r, gist_stern, gist_stern_r, gist_yarg, gist_yarg_r, gnuplot, gnuplot2, gnuplot2_r, gnuplot_r, gray, gray_r, hot, hot_r, hsv, hsv_r, icefire, icefire_r, inferno, inferno_r, jet, jet_r, magma, magma_r, mako,\n",
    " mako_r, nipy_spectral, nipy_spectral_r, ocean, ocean_r, pink, pink_r, plasma, plasma_r, prism, prism_r, rainbow, rainbow_r, rocket, rocket_r, seismic, seismic_r, spring, spring_r, summer, summer_r, tab10, tab10_r, tab20, tab20_r, tab20b, tab20b_r, tab20c, tab20c_r, terrain, terrain_r,\n",
    "twilight, twilight_r, twilight_shifted, twilight_shifted_r, viridis, viridis_r, vlag, vlag_r, winter, winter_r\n",
    "'''\n",
    "sns.heatmap(LOI.corr(), cmap=\"coolwarm\", annot = False, linewidths=1)\n",
    "plt.show()"
   ]
  },
  {
   "cell_type": "markdown",
   "metadata": {
    "pycharm": {
     "name": "#%% md\n"
    }
   },
   "source": [
    "#### 3. Performing Linear Regression:\n",
    "The equation of a simple linear regression:\n",
    "$\\widehat{y} = \\widehat{\\beta}_0 + \\widehat{\\beta}_1x$\n",
    "and $\\widehat{\\beta}_1$ values are known as **model coefficients** or **model parameters**\n",
    "\n",
    "To obtain prediction equation, we follow next four steps:\n",
    "1. Create X and y variables,\n",
    "2. Create Train and Test set,\n",
    "3. Train your model\n",
    "4. Evaluate the model"
   ]
  },
  {
   "cell_type": "code",
   "execution_count": 31,
   "metadata": {
    "pycharm": {
     "name": "#%%\n"
    }
   },
   "outputs": [],
   "source": [
    "# 1. Creating X and y variables\n",
    "X = LOI['Weight']\n",
    "y = LOI['LOI']"
   ]
  },
  {
   "cell_type": "markdown",
   "metadata": {
    "pycharm": {
     "name": "#%% md\n"
    }
   },
   "source": [
    "We need to split our variables into training and testing sets. Using the training set, we’ll build the model and perform the model on the testing set. We’ll divide the training and testing sets into a 7:3 ratio, respectively."
   ]
  },
  {
   "cell_type": "code",
   "execution_count": 32,
   "metadata": {
    "pycharm": {
     "name": "#%%\n"
    }
   },
   "outputs": [
    {
     "ename": "ModuleNotFoundError",
     "evalue": "No module named 'sklearn'",
     "output_type": "error",
     "traceback": [
      "\u001B[0;31m---------------------------------------------------------------------------\u001B[0m",
      "\u001B[0;31mModuleNotFoundError\u001B[0m                       Traceback (most recent call last)",
      "Input \u001B[0;32mIn [32]\u001B[0m, in \u001B[0;36m<cell line: 2>\u001B[0;34m()\u001B[0m\n\u001B[1;32m      1\u001B[0m \u001B[38;5;66;03m# Splitting the variables as training and testing\u001B[39;00m\n\u001B[0;32m----> 2\u001B[0m \u001B[38;5;28;01mfrom\u001B[39;00m \u001B[38;5;21;01msklearn\u001B[39;00m\u001B[38;5;21;01m.\u001B[39;00m\u001B[38;5;21;01mmodel_selection\u001B[39;00m \u001B[38;5;28;01mimport\u001B[39;00m train_test_split\n\u001B[1;32m      3\u001B[0m X_train, X_test, y_train, y_test \u001B[38;5;241m=\u001B[39m train_test_split(X, y, train_size \u001B[38;5;241m=\u001B[39m \u001B[38;5;241m0.7\u001B[39m, test_size \u001B[38;5;241m=\u001B[39m \u001B[38;5;241m0.3\u001B[39m, random_state \u001B[38;5;241m=\u001B[39m \u001B[38;5;241m100\u001B[39m)\n\u001B[1;32m      5\u001B[0m \u001B[38;5;66;03m# Take a look at the train dataset\u001B[39;00m\n",
      "\u001B[0;31mModuleNotFoundError\u001B[0m: No module named 'sklearn'"
     ]
    }
   ],
   "source": [
    "# Splitting the variables as training and testing\n",
    "from sklearn.model_selection import train_test_split\n",
    "X_train, X_test, y_train, y_test = train_test_split(X, y, train_size = 0.7, test_size = 0.3, random_state = 100)\n",
    "\n",
    "# Take a look at the train dataset\n",
    "X_train\n",
    "y_train"
   ]
  },
  {
   "cell_type": "markdown",
   "metadata": {
    "pycharm": {
     "name": "#%% md\n"
    }
   },
   "source": [
    "##### Building and training our model\n",
    "In these step we will build our prediction equation with `statsmodel` and `sklearn`.\n",
    "By default, the `statsmodel` library fits a line that passes through the origin. But if we observe the simple linear regression equation $\\widehat{y} = \\widehat{\\beta}_0 + \\widehat{\\beta}_1x$, it has an intercept value as $\\widehat{\\beta}_0$. So, to have an intercept, we need to add the `add_constant` attribute manually."
   ]
  },
  {
   "cell_type": "code",
   "execution_count": null,
   "metadata": {
    "pycharm": {
     "name": "#%%\n"
    }
   },
   "outputs": [],
   "source": [
    "# Importing Statsmodels.api library from Stamodel package\n",
    "import statsmodels.api as sm\n",
    "\n",
    "# Adding a constant to get an intercept\n",
    "X_train_sm = sm.add_constant(X_train)\n",
    "X_train_sm"
   ]
  },
  {
   "cell_type": "markdown",
   "metadata": {
    "pycharm": {
     "name": "#%% md\n"
    }
   },
   "source": [
    "Once we’ve added constant, we can fit the regression line using OLS (Ordinary Least Square) method present in the statsmodel. After that, we’ll see the parameters, i.e., $\\widehat{\\beta}_0$ and $\\widehat{\\beta}_1x$ of the straight line."
   ]
  },
  {
   "cell_type": "code",
   "execution_count": null,
   "metadata": {
    "pycharm": {
     "name": "#%%\n"
    }
   },
   "outputs": [],
   "source": [
    "# Fitting the regression line using 'OLS'. lr stands for linear regression\n",
    "lr = sm.OLS(y_train, X_train_sm).fit()\n",
    "\n",
    "# Printing the parameters\n",
    "lr.params"
   ]
  },
  {
   "cell_type": "markdown",
   "metadata": {
    "pycharm": {
     "name": "#%% md\n"
    }
   },
   "source": [
    "Let’s see the summary of all the different parameters of the regression line fitted like `R²`(Further details:\n",
    "https://en.wikipedia.org/wiki/Coefficient_of_determination), probability of `F-statistic`, and `p-value` (further details: https://en.wikipedia.org/wiki/Ordinary_least_squares)"
   ]
  },
  {
   "cell_type": "code",
   "execution_count": null,
   "metadata": {
    "pycharm": {
     "name": "#%%\n"
    }
   },
   "outputs": [],
   "source": [
    "# Performing a summary to list out all the different parameters of the regression line fitted\n",
    "lr.summary()"
   ]
  },
  {
   "cell_type": "markdown",
   "metadata": {
    "pycharm": {
     "name": "#%% md\n"
    }
   },
   "source": [
    "From the statistics of the regression line, we need interpret some parameters to determine whether the model is viable or not.\n",
    "Thus, the parameters we are interested on:\n",
    "a. The `coefficients` and its `p-value`(significance)\n",
    "b.`R-squared` value\n",
    "c. `F-statistic` and its significance\n",
    "\n",
    "a. when the variable coefficient and is corresponding `p-value` < 0.05;  at least one independent variable *x* is related to *y*.\n",
    "If `p-value` ≥ 0.05, there is no relationship between **any** of the independent variables *x* and *y*.\n",
    "b. `R-squared` value, means that  `R-squared`x100% of the *y* ( dependent variable ) variance be explained by the *x* (independent variable).\n",
    "c. When the Probability of F-statistic has a very low p-value, practically zero, which gives us that the model fit is statistically significant."
   ]
  },
  {
   "cell_type": "code",
   "execution_count": null,
   "metadata": {
    "pycharm": {
     "name": "#%%\n"
    }
   },
   "outputs": [],
   "source": [
    "# Visualizing the regression line\n",
    "plt.scatter(X_train, y_train)"
   ]
  },
  {
   "cell_type": "markdown",
   "metadata": {
    "pycharm": {
     "name": "#%% md\n"
    }
   },
   "source": [
    "Replace constant (5.555) and variable (0.044) by the outputs (constant and variable) of `lr.params` in the following code line:"
   ]
  },
  {
   "cell_type": "code",
   "execution_count": null,
   "metadata": {
    "pycharm": {
     "name": "#%%\n"
    }
   },
   "outputs": [],
   "source": [
    "plt.plot(X_train, 5.555 + 0.044*X_train, 'r')\n",
    "plt.show()"
   ]
  },
  {
   "cell_type": "markdown",
   "metadata": {
    "pycharm": {
     "name": "#%% md\n"
    }
   },
   "source": [
    "#### 4. Residual analysis\n",
    "\n",
    "In linear regression we assume that the error terms (residuals) are normally distributed.\n",
    "Basically, error can be represented like: `Error = y value - y predicted value`.\n",
    "Let's analyse the residuals. Thus, We have to predict the y value from the training dataset of X using the predict attribute.\n",
    "After that, we’ll create the residuals from the predicted data."
   ]
  },
  {
   "cell_type": "code",
   "execution_count": null,
   "metadata": {
    "pycharm": {
     "name": "#%%\n"
    }
   },
   "outputs": [],
   "source": [
    "# Predicting y_value using training data of X\n",
    "y_train_pred = lr.predict(X_train_sm)\n",
    "# Creating residuals from the y_train data and predicted y_data\n",
    "res = (y_train - y_train_pred)"
   ]
  },
  {
   "cell_type": "markdown",
   "metadata": {
    "pycharm": {
     "name": "#%% md\n"
    }
   },
   "source": [
    "Plot the histogram of the residuals to verify if they have or not a normal distribution"
   ]
  },
  {
   "cell_type": "code",
   "execution_count": null,
   "metadata": {
    "pycharm": {
     "name": "#%%\n"
    }
   },
   "outputs": [],
   "source": [
    "# Plotting the histogram using the residual values\n",
    "fig = plt.figure()\n",
    "sns.distplot(res, bins = 15)\n",
    "plt.title('Error Terms', fontsize = 15)\n",
    "plt.xlabel('y_train - y_train_pred', fontsize = 15)\n",
    "plt.show()"
   ]
  },
  {
   "cell_type": "markdown",
   "metadata": {
    "pycharm": {
     "name": "#%% md\n"
    }
   },
   "source": [
    "Visualizing if there are any pattern on the residuals plot:"
   ]
  },
  {
   "cell_type": "code",
   "execution_count": null,
   "metadata": {
    "pycharm": {
     "name": "#%%\n"
    }
   },
   "outputs": [],
   "source": [
    "# Looking for any patterns in the residuals\n",
    "plt.scatter(X_train,res)\n",
    "plt.show()"
   ]
  },
  {
   "cell_type": "markdown",
   "metadata": {
    "pycharm": {
     "name": "#%% md\n"
    }
   },
   "source": [
    "#### 5. Predictions:\n",
    "Now that we have fitted the regression line on our train dataset, we can make some predictions to the test data. Similar\n",
    "to the training dataset, we have to `add_constant` to the test data and predict the *y* values using the `predict` attribute\n",
    "present in the `statsmodel`."
   ]
  },
  {
   "cell_type": "code",
   "execution_count": null,
   "metadata": {
    "pycharm": {
     "name": "#%%\n"
    }
   },
   "outputs": [],
   "source": [
    "# Adding a constant to X_test\n",
    "X_test_sm = sm.add_constant(X_test)\n",
    "\n",
    "# Predicting the y values corresponding to X_test_sm\n",
    "y_test_pred = lr.predict(X_test_sm)\n",
    "\n",
    "# Printing the first 15 predicted values\n",
    "y_test_pred"
   ]
  },
  {
   "cell_type": "markdown",
   "metadata": {
    "pycharm": {
     "name": "#%% md\n"
    }
   },
   "source": [
    "Now, let’s calculate the R² value for the above-predicted y-values. We can do that by merely importing the `r2_score` library\n",
    "from ´sklearn.metrics´package."
   ]
  },
  {
   "cell_type": "code",
   "execution_count": null,
   "metadata": {
    "pycharm": {
     "name": "#%%\n"
    }
   },
   "outputs": [],
   "source": [
    "# Importing r2_square\n",
    "from sklearn.metrics import r2_score\n",
    "\n",
    "# Checking the R-squared value\n",
    "r_squared = r2_score(y_test, y_test_pred)\n",
    "r_squared"
   ]
  },
  {
   "cell_type": "markdown",
   "metadata": {
    "pycharm": {
     "name": "#%% md\n"
    }
   },
   "source": [
    "Notice that the R² value on test data must be within 5% of the R² value on training data. When this occurrs, we can conclude\n",
    "that the model is pretty stable. Which means, what the model has learned on the training set can generalize on the unseen\n",
    "test set.\n",
    "\n",
    "Let's visualize the data:"
   ]
  },
  {
   "cell_type": "code",
   "execution_count": null,
   "metadata": {
    "pycharm": {
     "name": "#%%\n"
    }
   },
   "outputs": [],
   "source": [
    "# Visualize the line on the test set\n",
    "plt.scatter(X_test, y_test)\n",
    "plt.plot(X_test, y_test_pred, 'r')\n",
    "plt.show()\n",
    "\n",
    "\n"
   ]
  }
 ],
 "metadata": {
  "kernelspec": {
   "display_name": "Python 3 (ipykernel)",
   "language": "python",
   "name": "python3"
  },
  "language_info": {
   "codemirror_mode": {
    "name": "ipython",
    "version": 3
   },
   "file_extension": ".py",
   "mimetype": "text/x-python",
   "name": "python",
   "nbconvert_exporter": "python",
   "pygments_lexer": "ipython3",
   "version": "3.8.11"
  }
 },
 "nbformat": 4,
 "nbformat_minor": 1
}