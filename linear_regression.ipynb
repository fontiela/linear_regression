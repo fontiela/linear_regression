{
 "cells": [
  {
   "cell_type": "markdown",
   "metadata": {},
   "source": [
    "# DATA ANALYSIS\n",
    "\n",
    "#### Basic and concepts:\n",
    "\n",
    "Regression analysis is modeling the relationship between a response variable and a set of explanatory variables that allow us determine which of the explanatory variables have an effect on the response.\n",
    "The basic idea of regression analysis is to obtain a model for the functional relationship between a response variable (referred ad the dependent variable) and explanatory variables (referred ad the independent variable).\n",
    "\n",
    "Uses of regression models (from Ott & Longnecker, 2010):\n",
    "1. The model provides a description of the major features of the data set. In some cases, a subset of the explanatory variables will not affect the response variable and hence the researcher will not have to measure or control any of these variables in future studies. This may result in significant savings in future studies or experiments.\n",
    "\n",
    "2. The equation relating the response variable to the explanatory variables produced from the regression analysis provides estimates of the response variable for values of the explanatory not observed in the study. For example, a clinical trial is designed to study the response of a subject to various dose levels of a new drug. Because of time and budgetary constraints, only a limited number of dose levels are used in the study. The regression equation will provide estimates of the subjects’ response for dose levels not included in the study. The accuracy of these estimates will depend heavily on how well the final model fits the observed data.\n",
    "\n",
    "3. In business applications, the prediction of future sales of a product is crucial to production planning. If the data provide a model that has a good fit in relating current sales to sales in previous months, prediction of sales in future months is possible. However, a crucial element in the accuracy of these predictions is that the business conditions during which model building data were collected remains fairly stable over the months for which the predictions are desired.\n",
    "\n",
    "4. In some applications of regression analysis, the researcher is seeking a model which can accurately estimate the values of a variable that is difficult or expensive to measure using explanatory variables that are inexpensive to measure and obtain. If such a model is obtained, then in future applications it is possible to avoid having to obtain the values of the expensive variable by measuring the values of the inexpensive variables and using the regression equation to estimate the value of the expensive variable. For example, a physical fitness center wants to determine the physical well-being of its new clients. Maximal oxygen uptake is recognized as the single best measure of cardiorespiratory fitness but its measurement is expensive. Therefore, the director of the fitness center would want a model that provides accurate estimates of maximal oxygen uptake using easily measured variables such as weight, age, heart rate after 1-kilometer walk, time needed to walk 1 kilometer, and so on.\n",
    "\n",
    "\n",
    "### Linear Regression\n",
    "A simple regression modeling, there is a single independent variable (*x*) and a dependent variable (*y*) and the equation for predicting a dependent variable *y* is a linear function of a given independent variable *x* (from Ott & Longnecker, 2010).\n",
    "The prediction equation is:\n",
    "\n",
    "$$ \\widehat{y} = \\widehat{\\beta}_0 + \\widehat{\\beta}_1x$$\n",
    " where $ \\widehat{y}$ is the estimated value or predicted value of $ y_i $ at the specified values of $x_i$, $ \\widehat{\\beta}_0 $ is the intercept and $ \\widehat{\\beta}_1x $ is the slope. See figure 1 to understand prediction equation on a graphical way.\n",
    "\n",
    "Since our aim is to find a prediction line that relates a dependent variable *y* and a single independent variable *x*. Nevertheless, we need assume that a simple regression  is that the relation is, in fact **linear**. According to the **assumption of linearity**, the slope of the equation doesn't change as *x* changes (figure 1).\n",
    "\n",
    "![Figure1](IMG_AC1501B3B823-1.jpeg)\n",
    "Figure 1. Linear prediction function (source Otto & Longnecker, 2010)\n",
    "\n",
    "Assuming linearity, we would like to write *y* as a linear function of $x:y=\\widehat{\\beta}_0 + \\widehat{\\beta}_1x$. Thus, as linear function there are no space for the inevitable errors. Therefore, we must introduce a **random error term** $\\varepsilon_i$ to each *y*.  model 1 should be re-written to include the errors as follows:\n",
    "  $$ \\widehat{y} = \\widehat{\\beta}_0 + \\widehat{\\beta}_1x + \\varepsilon $$\n",
    "  In fact, this equation differs from the previous one by include the error term *$\\varepsilon$* includes the effects of all other factors, known or unknown. By others words, in linear regression the *$x_i$* values are usually taken as predetermined constants, and the source of randomness is *$\\varepsilon_i$* terms.\n",
    "  #### Formal assumptions of regression analysis (from:Otto & Longnecker, 2010)\n",
    "  1. The relation is, in fact, linear, so that the errors all have expected value zero: *E($\\varepsilon_i$)* = 0 for all *i*.\n",
    "  2. The errors all have the same variance: Var($\\varepsilon_i$) = $\\sigma^2$ for all *i*.\n",
    "  3. The errors are independent of each other.\n",
    "  4. The errors are all normally distributed; *$\\varepsilon_i$* is normally distributed for all *i*.\n",
    "\n",
    "### Least squares\n",
    "The main problem in regression analysis is to find the best straight-line prediction. Basically, best is based on the squared prediction error. We find the equation of the prediction-line, that is, the slope $\\widehat{\\beta}_1$ and intercept $\\widehat{\\beta}_0$ that minimize the total squared prediction error. This method is called **least-squares method** because it chooses $ \\widehat{\\beta}_0 $ and $ \\widehat{\\beta}_1 $ to minimize the quantity.\n",
    "\n",
    "$$ \\sum_i(y-\\widehat{y}_i)^2 = \\sum_i[y_i-(\\widehat{\\beta}_0 + \\widehat{\\beta}_1 x_i)]^2 $$\n",
    "\n",
    "\n",
    "The **least-squares estimates of slope and intercept** are obtained as follows:\n",
    "\n",
    "$$ \\widehat{\\beta}_1 = \\frac{S_{xy}}{S_{xx}}  and   \\widehat{\\beta}_0 = \\bar{y} - \\widehat{\\beta}_1 \\bar{x}$$\n",
    "\n",
    "$$ S_{xy} = \\sum_i(x_i -\\bar{x})(y_i - \\bar{y}) and S_{xx} = \\sum_i(x_i - \\bar{x})^2 $$\n",
    "\n",
    "Thus, $S_{xy}$ is the sum of *x* deviations times *y* deviations and $S_{xx}$ is the sum of *x* deviations squared\n",
    "\n",
    "\n",
    "\n",
    "## Building a linear regression model\n",
    "In this exercise, we will use python to build a linear regression model on five steps:\n",
    "1. Reading and understanding the data;\n",
    "2. Visualizing the data;\n",
    "3. Performing simple linear regression;\n",
    "4. Residual analysis;\n",
    "5. Predictions;\n",
    "\n",
    "#### 1. Reading and understanding the data:\n",
    "We start by import the `numpy` and `pandas` libraries to the Jupyter notebook and read data using `pandas`"
   ]
  },
  {
   "cell_type": "code",
   "execution_count": 173,
   "metadata": {
    "pycharm": {
     "name": "#%%\n"
    }
   },
   "outputs": [
    {
     "data": {
      "text/plain": "                        Sample  SUM+LOI   Sum (%) LOI (%)  \\\n0    SBC-1 (brush greek shale)   99.765    90.065    9.70   \n1    SBC-1 (brush greek shale)   99.231    89.531    9.70   \n2    SBC-1 (brush greek shale)   99.441    89.741    9.70   \n3    SBC-1 (brush greek shale)   99.646    90.076    9.57   \n4    SBC-1 (brush greek shale)   99.111    89.541    9.57   \n..                         ...      ...       ...     ...   \n181    NCSDC_28012a (dolomite)  104.628    60.358   44.27   \n182    NCSDC_28012a (dolomite)    0.000     0.000  gravim   \n183    NCSDC_28012a (dolomite)    0.000     0.000    0.07   \n184    NCSDC_28012a (dolomite)    0.000     0.000     NaN   \n185    NCSDC_28012a (dolomite)    0.000     0.000     NaN   \n\n                                           Test  Weight Na2O (%)  MgO (%)  \\\n0                           LOI EQUATION_1stRun    13.2     0.30     2.81   \n1                           LOI EQUATION_2ndRun    13.2     0.06     2.71   \n2                           LOI EQUATION_3rdRun    13.2     0.01     2.70   \n3                            LOI COMPANY_1stRun    13.2     0.30     2.81   \n4                            LOI COMPANY_2ndRun    13.2     0.06     2.71   \n..                                          ...     ...      ...      ...   \n181                      LOI CALCINATION_3rdRun    12.8     0.02    22.89   \n182                            REFERENCE VALUES     NaN    0.012    20.92   \n183                   REFERENCE DEVIATION (k=2)     NaN    0.001     0.08   \n184  abs.dev. from calib line/ NOT IN THE CALIB     NaN     0.00     0.00   \n185  rel.dev. from calib line/ NOT IN THE CALIB     NaN     0.00     0.00   \n\n     Al2O3 (%)  SiO2 (%)  K2O (%)  CaO (%)  TiO2 (%)  Fe2O3 (%)  MnO (%)  \\\n0        21.07     48.01    3.440     2.98    0.8800       9.91    0.160   \n1        21.08     47.64    3.440     3.06    0.8600      10.01    0.160   \n2        21.20     47.89    3.500     3.03    0.8800       9.86    0.160   \n3        21.07     48.02    3.440     2.98    0.8800       9.91    0.160   \n4        21.08     47.65    3.440     3.06    0.8600      10.01    0.160   \n..         ...       ...      ...      ...       ...        ...      ...   \n181       0.38      2.34    0.000    34.00    0.0300       0.28    0.010   \n182       0.23      1.48    0.085    30.94    0.0080       0.26    0.011   \n183       0.01      0.03    0.003     0.09    0.0005       0.01    0.001   \n184       0.00      0.00    0.000     0.00    0.0000       0.00    0.000   \n185       0.00      0.00    0.000     0.00    0.0000       0.00    0.000   \n\n     P2O5 (%)  \n0        0.29  \n1        0.30  \n2        0.30  \n3        0.29  \n4        0.30  \n..        ...  \n181      0.32  \n182      0.00  \n183      0.00  \n184      0.00  \n185      0.00  \n\n[186 rows x 16 columns]",
      "text/html": "<div>\n<style scoped>\n    .dataframe tbody tr th:only-of-type {\n        vertical-align: middle;\n    }\n\n    .dataframe tbody tr th {\n        vertical-align: top;\n    }\n\n    .dataframe thead th {\n        text-align: right;\n    }\n</style>\n<table border=\"1\" class=\"dataframe\">\n  <thead>\n    <tr style=\"text-align: right;\">\n      <th></th>\n      <th>Sample</th>\n      <th>SUM+LOI</th>\n      <th>Sum (%)</th>\n      <th>LOI (%)</th>\n      <th>Test</th>\n      <th>Weight</th>\n      <th>Na2O (%)</th>\n      <th>MgO (%)</th>\n      <th>Al2O3 (%)</th>\n      <th>SiO2 (%)</th>\n      <th>K2O (%)</th>\n      <th>CaO (%)</th>\n      <th>TiO2 (%)</th>\n      <th>Fe2O3 (%)</th>\n      <th>MnO (%)</th>\n      <th>P2O5 (%)</th>\n    </tr>\n  </thead>\n  <tbody>\n    <tr>\n      <th>0</th>\n      <td>SBC-1 (brush greek shale)</td>\n      <td>99.765</td>\n      <td>90.065</td>\n      <td>9.70</td>\n      <td>LOI EQUATION_1stRun</td>\n      <td>13.2</td>\n      <td>0.30</td>\n      <td>2.81</td>\n      <td>21.07</td>\n      <td>48.01</td>\n      <td>3.440</td>\n      <td>2.98</td>\n      <td>0.8800</td>\n      <td>9.91</td>\n      <td>0.160</td>\n      <td>0.29</td>\n    </tr>\n    <tr>\n      <th>1</th>\n      <td>SBC-1 (brush greek shale)</td>\n      <td>99.231</td>\n      <td>89.531</td>\n      <td>9.70</td>\n      <td>LOI EQUATION_2ndRun</td>\n      <td>13.2</td>\n      <td>0.06</td>\n      <td>2.71</td>\n      <td>21.08</td>\n      <td>47.64</td>\n      <td>3.440</td>\n      <td>3.06</td>\n      <td>0.8600</td>\n      <td>10.01</td>\n      <td>0.160</td>\n      <td>0.30</td>\n    </tr>\n    <tr>\n      <th>2</th>\n      <td>SBC-1 (brush greek shale)</td>\n      <td>99.441</td>\n      <td>89.741</td>\n      <td>9.70</td>\n      <td>LOI EQUATION_3rdRun</td>\n      <td>13.2</td>\n      <td>0.01</td>\n      <td>2.70</td>\n      <td>21.20</td>\n      <td>47.89</td>\n      <td>3.500</td>\n      <td>3.03</td>\n      <td>0.8800</td>\n      <td>9.86</td>\n      <td>0.160</td>\n      <td>0.30</td>\n    </tr>\n    <tr>\n      <th>3</th>\n      <td>SBC-1 (brush greek shale)</td>\n      <td>99.646</td>\n      <td>90.076</td>\n      <td>9.57</td>\n      <td>LOI COMPANY_1stRun</td>\n      <td>13.2</td>\n      <td>0.30</td>\n      <td>2.81</td>\n      <td>21.07</td>\n      <td>48.02</td>\n      <td>3.440</td>\n      <td>2.98</td>\n      <td>0.8800</td>\n      <td>9.91</td>\n      <td>0.160</td>\n      <td>0.29</td>\n    </tr>\n    <tr>\n      <th>4</th>\n      <td>SBC-1 (brush greek shale)</td>\n      <td>99.111</td>\n      <td>89.541</td>\n      <td>9.57</td>\n      <td>LOI COMPANY_2ndRun</td>\n      <td>13.2</td>\n      <td>0.06</td>\n      <td>2.71</td>\n      <td>21.08</td>\n      <td>47.65</td>\n      <td>3.440</td>\n      <td>3.06</td>\n      <td>0.8600</td>\n      <td>10.01</td>\n      <td>0.160</td>\n      <td>0.30</td>\n    </tr>\n    <tr>\n      <th>...</th>\n      <td>...</td>\n      <td>...</td>\n      <td>...</td>\n      <td>...</td>\n      <td>...</td>\n      <td>...</td>\n      <td>...</td>\n      <td>...</td>\n      <td>...</td>\n      <td>...</td>\n      <td>...</td>\n      <td>...</td>\n      <td>...</td>\n      <td>...</td>\n      <td>...</td>\n      <td>...</td>\n    </tr>\n    <tr>\n      <th>181</th>\n      <td>NCSDC_28012a (dolomite)</td>\n      <td>104.628</td>\n      <td>60.358</td>\n      <td>44.27</td>\n      <td>LOI CALCINATION_3rdRun</td>\n      <td>12.8</td>\n      <td>0.02</td>\n      <td>22.89</td>\n      <td>0.38</td>\n      <td>2.34</td>\n      <td>0.000</td>\n      <td>34.00</td>\n      <td>0.0300</td>\n      <td>0.28</td>\n      <td>0.010</td>\n      <td>0.32</td>\n    </tr>\n    <tr>\n      <th>182</th>\n      <td>NCSDC_28012a (dolomite)</td>\n      <td>0.000</td>\n      <td>0.000</td>\n      <td>gravim</td>\n      <td>REFERENCE VALUES</td>\n      <td>NaN</td>\n      <td>0.012</td>\n      <td>20.92</td>\n      <td>0.23</td>\n      <td>1.48</td>\n      <td>0.085</td>\n      <td>30.94</td>\n      <td>0.0080</td>\n      <td>0.26</td>\n      <td>0.011</td>\n      <td>0.00</td>\n    </tr>\n    <tr>\n      <th>183</th>\n      <td>NCSDC_28012a (dolomite)</td>\n      <td>0.000</td>\n      <td>0.000</td>\n      <td>0.07</td>\n      <td>REFERENCE DEVIATION (k=2)</td>\n      <td>NaN</td>\n      <td>0.001</td>\n      <td>0.08</td>\n      <td>0.01</td>\n      <td>0.03</td>\n      <td>0.003</td>\n      <td>0.09</td>\n      <td>0.0005</td>\n      <td>0.01</td>\n      <td>0.001</td>\n      <td>0.00</td>\n    </tr>\n    <tr>\n      <th>184</th>\n      <td>NCSDC_28012a (dolomite)</td>\n      <td>0.000</td>\n      <td>0.000</td>\n      <td>NaN</td>\n      <td>abs.dev. from calib line/ NOT IN THE CALIB</td>\n      <td>NaN</td>\n      <td>0.00</td>\n      <td>0.00</td>\n      <td>0.00</td>\n      <td>0.00</td>\n      <td>0.000</td>\n      <td>0.00</td>\n      <td>0.0000</td>\n      <td>0.00</td>\n      <td>0.000</td>\n      <td>0.00</td>\n    </tr>\n    <tr>\n      <th>185</th>\n      <td>NCSDC_28012a (dolomite)</td>\n      <td>0.000</td>\n      <td>0.000</td>\n      <td>NaN</td>\n      <td>rel.dev. from calib line/ NOT IN THE CALIB</td>\n      <td>NaN</td>\n      <td>0.00</td>\n      <td>0.00</td>\n      <td>0.00</td>\n      <td>0.00</td>\n      <td>0.000</td>\n      <td>0.00</td>\n      <td>0.0000</td>\n      <td>0.00</td>\n      <td>0.000</td>\n      <td>0.00</td>\n    </tr>\n  </tbody>\n</table>\n<p>186 rows × 16 columns</p>\n</div>"
     },
     "execution_count": 173,
     "metadata": {},
     "output_type": "execute_result"
    }
   ],
   "source": [
    "# importing numpy and pandas libraries to read the data\n",
    "\n",
    "# surpress Warnings\n",
    "import warnings\n",
    "warnings.filterwarnings('ignore')\n",
    "\n",
    "# import the numpy, pandas and matplotlib package\n",
    "import pandas as pd\n",
    "import csv\n",
    "import numpy as np\n",
    "\n",
    "# read data csv file, and view some sample records\n",
    "# Notice that everything to the left of the = signal is variable name and you can change the name\n",
    "\n",
    "LOI = pd.read_csv('LOI&MASS.csv', delimiter=';')\n",
    "# LOI_tupple = [tuple(row) for row in LOI.values]\n",
    "LOI\n"
   ]
  },
  {
   "cell_type": "markdown",
   "metadata": {
    "pycharm": {
     "name": "#%% md\n"
    }
   },
   "source": [
    "We use functions like shape, info and describe to understand and verify if there aren't anomalous values on the dataset. `Shape` gives the rows and columns number ... in other the shape of the dataset. `Info` function to identify if there are any null values in the data, and `describe` function provide some data characterization to identify."
   ]
  },
  {
   "cell_type": "code",
   "execution_count": 174,
   "metadata": {
    "pycharm": {
     "name": "#%%\n"
    }
   },
   "outputs": [
    {
     "data": {
      "text/plain": "(186, 16)"
     },
     "execution_count": 174,
     "metadata": {},
     "output_type": "execute_result"
    }
   ],
   "source": [
    "# Shape of our dataset:\n",
    "LOI.shape"
   ]
  },
  {
   "cell_type": "markdown",
   "source": [
    "#### Info or our dataset:"
   ],
   "metadata": {
    "collapsed": false
   }
  },
  {
   "cell_type": "markdown",
   "metadata": {
    "pycharm": {
     "name": "#%% md\n"
    }
   },
   "source": []
  },
  {
   "cell_type": "code",
   "execution_count": 175,
   "outputs": [
    {
     "name": "stdout",
     "output_type": "stream",
     "text": [
      "<class 'pandas.core.frame.DataFrame'>\n",
      "RangeIndex: 186 entries, 0 to 185\n",
      "Data columns (total 16 columns):\n",
      " #   Column     Non-Null Count  Dtype  \n",
      "---  ------     --------------  -----  \n",
      " 0   Sample     186 non-null    object \n",
      " 1   SUM+LOI    186 non-null    float64\n",
      " 2    Sum (%)   186 non-null    float64\n",
      " 3   LOI (%)    169 non-null    object \n",
      " 4   Test       186 non-null    object \n",
      " 5   Weight     162 non-null    float64\n",
      " 6   Na2O (%)   184 non-null    object \n",
      " 7   MgO (%)    186 non-null    float64\n",
      " 8   Al2O3 (%)  186 non-null    float64\n",
      " 9   SiO2 (%)   186 non-null    float64\n",
      " 10  K2O (%)    186 non-null    float64\n",
      " 11  CaO (%)    186 non-null    float64\n",
      " 12  TiO2 (%)   184 non-null    float64\n",
      " 13  Fe2O3 (%)  186 non-null    float64\n",
      " 14  MnO (%)    186 non-null    float64\n",
      " 15  P2O5 (%)   186 non-null    float64\n",
      "dtypes: float64(12), object(4)\n",
      "memory usage: 23.4+ KB\n"
     ]
    }
   ],
   "source": [
    "LOI.info()"
   ],
   "metadata": {
    "collapsed": false,
    "pycharm": {
     "name": "#%% Info or our dataset:\n"
    }
   }
  },
  {
   "cell_type": "code",
   "execution_count": 176,
   "metadata": {
    "pycharm": {
     "name": "#%%\n"
    }
   },
   "outputs": [
    {
     "data": {
      "text/plain": "          SUM+LOI     Sum (%)      Weight     MgO (%)   Al2O3 (%)    SiO2 (%)  \\\ncount  186.000000  186.000000  162.000000  186.000000  186.000000  186.000000   \nmean    89.458242   73.409694   13.000000   10.404462    8.322258   31.886919   \nstd     34.634333   32.573515    0.163806   12.418918    7.568695   31.836808   \nmin      0.000000    0.000000   12.800000   -4.800000   -1.200000   -4.900000   \n25%     99.480000   60.037750   12.800000    1.800000    0.540000    2.775000   \n50%    102.677000   91.595000   13.000000    2.800000    7.380000   10.130000   \n75%    104.644500   97.243000   13.200000   22.285000   14.337500   68.630000   \nmax    107.582000  102.404000   13.200000   35.300000   21.400000   79.800000   \n\n          K2O (%)     CaO (%)    TiO2 (%)   Fe2O3 (%)     MnO (%)    P2O5 (%)  \ncount  186.000000  186.000000  184.000000  186.000000  186.000000  186.000000  \nmean     1.478613   18.830000    0.203302    4.068866    0.989877    0.198978  \nstd      1.598200   19.526755    1.835761    4.003158    7.671818    0.148264  \nmin     -2.900000   -5.100000  -24.000000  -19.000000    0.000000    0.000000  \n25%      0.030000    1.780000    0.030000    0.250000    0.010000    0.020000  \n50%      0.235000    3.310000    0.240000    4.870000    0.110000    0.280000  \n75%      3.250000   33.997500    0.720000    5.992500    0.370000    0.320000  \nmax      4.200000   64.000000    0.950000   11.020000  103.000000    0.420000  ",
      "text/html": "<div>\n<style scoped>\n    .dataframe tbody tr th:only-of-type {\n        vertical-align: middle;\n    }\n\n    .dataframe tbody tr th {\n        vertical-align: top;\n    }\n\n    .dataframe thead th {\n        text-align: right;\n    }\n</style>\n<table border=\"1\" class=\"dataframe\">\n  <thead>\n    <tr style=\"text-align: right;\">\n      <th></th>\n      <th>SUM+LOI</th>\n      <th>Sum (%)</th>\n      <th>Weight</th>\n      <th>MgO (%)</th>\n      <th>Al2O3 (%)</th>\n      <th>SiO2 (%)</th>\n      <th>K2O (%)</th>\n      <th>CaO (%)</th>\n      <th>TiO2 (%)</th>\n      <th>Fe2O3 (%)</th>\n      <th>MnO (%)</th>\n      <th>P2O5 (%)</th>\n    </tr>\n  </thead>\n  <tbody>\n    <tr>\n      <th>count</th>\n      <td>186.000000</td>\n      <td>186.000000</td>\n      <td>162.000000</td>\n      <td>186.000000</td>\n      <td>186.000000</td>\n      <td>186.000000</td>\n      <td>186.000000</td>\n      <td>186.000000</td>\n      <td>184.000000</td>\n      <td>186.000000</td>\n      <td>186.000000</td>\n      <td>186.000000</td>\n    </tr>\n    <tr>\n      <th>mean</th>\n      <td>89.458242</td>\n      <td>73.409694</td>\n      <td>13.000000</td>\n      <td>10.404462</td>\n      <td>8.322258</td>\n      <td>31.886919</td>\n      <td>1.478613</td>\n      <td>18.830000</td>\n      <td>0.203302</td>\n      <td>4.068866</td>\n      <td>0.989877</td>\n      <td>0.198978</td>\n    </tr>\n    <tr>\n      <th>std</th>\n      <td>34.634333</td>\n      <td>32.573515</td>\n      <td>0.163806</td>\n      <td>12.418918</td>\n      <td>7.568695</td>\n      <td>31.836808</td>\n      <td>1.598200</td>\n      <td>19.526755</td>\n      <td>1.835761</td>\n      <td>4.003158</td>\n      <td>7.671818</td>\n      <td>0.148264</td>\n    </tr>\n    <tr>\n      <th>min</th>\n      <td>0.000000</td>\n      <td>0.000000</td>\n      <td>12.800000</td>\n      <td>-4.800000</td>\n      <td>-1.200000</td>\n      <td>-4.900000</td>\n      <td>-2.900000</td>\n      <td>-5.100000</td>\n      <td>-24.000000</td>\n      <td>-19.000000</td>\n      <td>0.000000</td>\n      <td>0.000000</td>\n    </tr>\n    <tr>\n      <th>25%</th>\n      <td>99.480000</td>\n      <td>60.037750</td>\n      <td>12.800000</td>\n      <td>1.800000</td>\n      <td>0.540000</td>\n      <td>2.775000</td>\n      <td>0.030000</td>\n      <td>1.780000</td>\n      <td>0.030000</td>\n      <td>0.250000</td>\n      <td>0.010000</td>\n      <td>0.020000</td>\n    </tr>\n    <tr>\n      <th>50%</th>\n      <td>102.677000</td>\n      <td>91.595000</td>\n      <td>13.000000</td>\n      <td>2.800000</td>\n      <td>7.380000</td>\n      <td>10.130000</td>\n      <td>0.235000</td>\n      <td>3.310000</td>\n      <td>0.240000</td>\n      <td>4.870000</td>\n      <td>0.110000</td>\n      <td>0.280000</td>\n    </tr>\n    <tr>\n      <th>75%</th>\n      <td>104.644500</td>\n      <td>97.243000</td>\n      <td>13.200000</td>\n      <td>22.285000</td>\n      <td>14.337500</td>\n      <td>68.630000</td>\n      <td>3.250000</td>\n      <td>33.997500</td>\n      <td>0.720000</td>\n      <td>5.992500</td>\n      <td>0.370000</td>\n      <td>0.320000</td>\n    </tr>\n    <tr>\n      <th>max</th>\n      <td>107.582000</td>\n      <td>102.404000</td>\n      <td>13.200000</td>\n      <td>35.300000</td>\n      <td>21.400000</td>\n      <td>79.800000</td>\n      <td>4.200000</td>\n      <td>64.000000</td>\n      <td>0.950000</td>\n      <td>11.020000</td>\n      <td>103.000000</td>\n      <td>0.420000</td>\n    </tr>\n  </tbody>\n</table>\n</div>"
     },
     "execution_count": 176,
     "metadata": {},
     "output_type": "execute_result"
    }
   ],
   "source": [
    "# Describe our dataset:\n",
    "LOI.describe()"
   ]
  },
  {
   "cell_type": "markdown",
   "metadata": {
    "pycharm": {
     "name": "#%% md\n"
    }
   },
   "source": [
    "#### 2. Visualizing the data:\n",
    "On this step our aim is to visualize data to understand and try to establish correlations amongst the different parameters."
   ]
  },
  {
   "cell_type": "code",
   "execution_count": 177,
   "metadata": {
    "pycharm": {
     "name": "#%%\n"
    }
   },
   "outputs": [
    {
     "data": {
      "text/plain": "<Figure size 864x288 with 3 Axes>",
      "image/png": "[encoded data removed]"
     },
     "metadata": {
      "needs_background": "light"
     },
     "output_type": "display_data"
    }
   ],
   "source": [
    "# Import matplotlib and seaborn libraries to visualize the data\n",
    "import matplotlib.pyplot as plt\n",
    "import seaborn as sns\n",
    "\n",
    "# Using pairplot we'll visualize the data for correlation\n",
    "sns.pairplot(LOI, x_vars=['SiO2 (%)','Na2O (%)','LOI (%)'],\n",
    "             y_vars='SUM+LOI', size=4, aspect=1, kind='scatter')\n",
    "plt.show()"
   ]
  },
  {
   "cell_type": "markdown",
   "source": [
    "#### 2.1 Data selection\n",
    "After you know your dataset we select the parameters we want analyze based on the test options (LOI EQUATION_[1,2,3]stRun, LOI COMPANY_[1,2,3]rdRun and LOI CALCINATION_[1,2,3]stRun) and weight option (13.2, 13.0, and 12.8)."
   ],
   "metadata": {
    "collapsed": false
   }
  },
  {
   "cell_type": "code",
   "execution_count": 178,
   "metadata": {
    "pycharm": {
     "name": "#%%\n"
    }
   },
   "outputs": [
    {
     "name": "stdout",
     "output_type": "stream",
     "text": [
      "\n",
      "Selected weight and test: \n",
      "                             Sample  SUM+LOI   Sum (%) LOI (%)  \\\n",
      "26       SBC-1 (brush greek shale)  102.876    93.006    9.87   \n",
      "57   NCSDC_73309 (stream sediment)  105.045   102.115    2.93   \n",
      "88             NCSDC_62108c (clay)  105.739   100.539    5.20   \n",
      "119       SX07-10 (dolomite subst)  102.320    95.940    6.38   \n",
      "150       NCSDC_28009a (limestone)  107.582    63.582   44.00   \n",
      "181        NCSDC_28012a (dolomite)  104.628    60.358   44.27   \n",
      "\n",
      "                       Test  Weight Na2O (%)  MgO (%)  Al2O3 (%)  SiO2 (%)  \\\n",
      "26   LOI CALCINATION_3rdRun    12.8     0.09     2.58      21.37     49.41   \n",
      "57   LOI CALCINATION_3rdRun    12.8     0.27     0.72      11.12     79.56   \n",
      "88   LOI CALCINATION_3rdRun    12.8     1.36     2.01      14.76     70.77   \n",
      "119  LOI CALCINATION_3rdRun    12.8     0.08    34.17       7.47     10.17   \n",
      "150  LOI CALCINATION_3rdRun    12.8     0.03     7.51       0.62      3.61   \n",
      "181  LOI CALCINATION_3rdRun    12.8     0.02    22.89       0.38      2.34   \n",
      "\n",
      "     K2O (%)  CaO (%)  TiO2 (%)  Fe2O3 (%)  MnO (%)  P2O5 (%)  \n",
      "26      3.68     3.31      0.95      10.88     0.18      0.30  \n",
      "57      3.28     1.01      0.35       4.98     0.40      0.02  \n",
      "88      2.52     2.12      0.77       5.83     0.11      0.06  \n",
      "119     0.07    34.96      0.24       6.82     1.03      0.33  \n",
      "150     0.21    50.80      0.05       0.23     0.00      0.42  \n",
      "181     0.00    34.00      0.03       0.28     0.01      0.32  \n"
     ]
    }
   ],
   "source": [
    "# Filter data  by the atributes of one cell. Ex. select data rows based on the value \"LOI CALCINATION_3rdRun\" of Test column :\n",
    "# LOI_option = (LOI['Test'] == 'LOI CALCINATION_3rdRun')\n",
    "# Filter data  by the atributes of two cells. Ex. select data rows based on the atributes \"LOI CALCINATION_3rdRun\" of Test column and \"12.8\" of Weight column :\n",
    "LOI_option = LOI[(LOI['Test'] == 'LOI CALCINATION_3rdRun') & (LOI['Weight'] == 12.8)]\n",
    "# Data selection by the atributes of one cell. Ex. select data rows based on the value of Al2O3 >= 20 :\n",
    "# LOI_option = LOI['Al2O3 (%)'] >= 20.0\n",
    "# LOI_option = LOI[(LOI['Test'] == 'LOI CALCINATION_3rdRun') & (LOI['Weight'] == 12.8)]\n",
    "print('\\nSelected weight and test: \\n', LOI_option)"
   ]
  },
  {
   "cell_type": "markdown",
   "source": [
    "Visualize data based on your filter"
   ],
   "metadata": {
    "collapsed": false
   }
  },
  {
   "cell_type": "code",
   "execution_count": 179,
   "outputs": [
    {
     "data": {
      "text/plain": "<Figure size 864x288 with 3 Axes>",
      "image/png": "[encoded data removed]"
     },
     "metadata": {
      "needs_background": "light"
     },
     "output_type": "display_data"
    }
   ],
   "source": [
    "sns.pairplot(LOI_option, x_vars=['SiO2 (%)','Na2O (%)','LOI (%)'],\n",
    "             y_vars=['SUM+LOI'], size=4, aspect=1, kind='scatter')\n",
    "plt.show()"
   ],
   "metadata": {
    "collapsed": false,
    "pycharm": {
     "name": "#%%\n"
    }
   }
  },
  {
   "cell_type": "markdown",
   "source": [
    "In case patterns aren't visible we can use a heatmap from the `seaborn` package."
   ],
   "metadata": {
    "collapsed": false
   }
  },
  {
   "cell_type": "code",
   "execution_count": 180,
   "outputs": [
    {
     "data": {
      "text/plain": "<Figure size 1152x648 with 2 Axes>",
      "image/png": "[encoded data removed]"
     },
     "metadata": {
      "needs_background": "light"
     },
     "output_type": "display_data"
    }
   ],
   "source": [
    "# Visualizing the data using heatmap\n",
    "plt.figure(figsize=(16,9))\n",
    "'''\n",
    "Adjust heatmap color scheme with one of following options:\n",
    "Accent, Accent_r, Blues, Blues_r, BrBG, BrBG_r, BuGn, BuGn_r, BuPu, BuPu_r, CMRmap, CMRmap_r, Dark2, Dark2_r, GnBu, GnBu_r, Greens, Greens_r, Greys, Greys_r, OrRd, OrRd_r, Oranges, Oranges_r, PRGn, PRGn_r, Paired, Paired_r, Pastel1, Pastel1_r, Pastel2, Pastel2_r, PiYG,PiYG_r, PuBu, PuBuGn, PuBuGn_r, PuBu_r, PuOr, PuOr_r, PuRd, PuRd_r, Purples, Purples_r, RdBu, RdBu_r, RdGy, RdGy_r, RdPu, RdPu_r, RdYlBu, RdYlBu_r, RdYlGn, RdYlGn_r, Reds, Reds_r, Set1, Set1_r, Set2, Set2_r, Set3, Set3_r, Spectral, Spectral_r, Wistia, Wistia_r, YlGn, YlGnBu, YlGnBu_r, YlGn_r,YlOrBr, YlOrBr_r, YlOrRd, YlOrRd_r, afmhot, afmhot_r, autumn, autumn_r, binary, binary_r, bone, bone_r, brg, brg_r, bwr, bwr_r, cividis, cividis_r, cool, cool_r, coolwarm, coolwarm_r, copper, copper_r, cubehelix, cubehelix_r, flag, flag_r, gist_earth, gist_earth_r, gist_gray, gist_gray_r,gist_heat, gist_heat_r, gist_ncar, gist_ncar_r, gist_rainbow, gist_rainbow_r, gist_stern, gist_stern_r, gist_yarg, gist_yarg_r, gnuplot, gnuplot2, gnuplot2_r, gnuplot_r, gray, gray_r, hot, hot_r, hsv, hsv_r, icefire, icefire_r, inferno, inferno_r, jet, jet_r, magma, magma_r, mako, mako_r, nipy_spectral, nipy_spectral_r, ocean, ocean_r, pink, pink_r, plasma, plasma_r, prism, prism_r, rainbow, rainbow_r, rocket, rocket_r, seismic, seismic_r, spring, spring_r, summer, summer_r, tab10, tab10_r, tab20, tab20_r, tab20b, tab20b_r, tab20c, tab20c_r, terrain, terrain_r,twilight, twilight_r,twilight_shifted, twilight_shifted_r, viridis, viridis_r, vlag, vlag_r, winter, winter_r\n",
    "'''\n",
    "# If you want identify patterns on the data that you filtered, replace on the line bellow LOI.corr() by\n",
    "# LOI_option.corr() or the name you give to the variable\n",
    "sns.heatmap(LOI.corr(), cmap=\"coolwarm\", annot = False, linewidths=1)\n",
    "plt.show()"
   ],
   "metadata": {
    "collapsed": false,
    "pycharm": {
     "name": "#%%\n"
    }
   }
  },
  {
   "cell_type": "markdown",
   "source": [],
   "metadata": {
    "collapsed": false
   }
  },
  {
   "cell_type": "markdown",
   "metadata": {
    "pycharm": {
     "name": "#%% md\n"
    }
   },
   "source": [
    "#### 3. Performing Linear Regression:\n",
    "The equation of a simple linear regression:\n",
    "$\\widehat{y} = \\widehat{\\beta}_0 + \\widehat{\\beta}_1x$\n",
    "and $\\widehat{\\beta}_1$ values are known as **model coefficients** or **model parameters**\n",
    "\n",
    "To obtain prediction equation, we follow next four steps:\n",
    "1. Create X and y variables,\n",
    "2. Create Train and Test set,\n",
    "3. Train your model\n",
    "4. Evaluate the model"
   ]
  },
  {
   "cell_type": "code",
   "metadata": {
    "pycharm": {
     "name": "#%%\n"
    }
   },
   "source": [
    "# 1. Creating X and y variables\n",
    "X = LOI_option['SUM+LOI']\n",
    "y = LOI_option['Al2O3 (%)']"
   ],
   "execution_count": 181,
   "outputs": []
  },
  {
   "cell_type": "markdown",
   "metadata": {
    "pycharm": {
     "name": "#%% md\n"
    }
   },
   "source": [
    "We need to split our variables into training and testing sets. Using the training set, we’ll build the model and perform the model on the testing set. We’ll divide the training and testing sets into a 7:3 ratio, respectively."
   ]
  },
  {
   "cell_type": "code",
   "execution_count": 182,
   "metadata": {
    "pycharm": {
     "name": "#%%\n"
    }
   },
   "outputs": [
    {
     "data": {
      "text/plain": "150     0.62\n119     7.47\n181     0.38\n26     21.37\nName: Al2O3 (%), dtype: float64"
     },
     "execution_count": 182,
     "metadata": {},
     "output_type": "execute_result"
    }
   ],
   "source": [
    "# Splitting the variables as training and testing\n",
    "from sklearn.model_selection import train_test_split\n",
    "X_train, X_test, y_train, y_test = train_test_split(X, y, train_size = 0.7, test_size = 0.3, random_state = 100)\n",
    "\n",
    "# Take a look at the train dataset\n",
    "X_train\n",
    "y_train"
   ]
  },
  {
   "cell_type": "markdown",
   "metadata": {
    "pycharm": {
     "name": "#%% md\n"
    }
   },
   "source": [
    "##### Building and training our model\n",
    "In these step we will build our prediction equation with `statsmodel` and `sklearn`.\n",
    "By default, the `statsmodel` library fits a line that passes through the origin. But if we observe the simple linear regression equation $\\widehat{y} = \\widehat{\\beta}_0 + \\widehat{\\beta}_1x$, it has an intercept value as $\\widehat{\\beta}_0$. So, to have an intercept, we need to add the `add_constant` attribute manually."
   ]
  },
  {
   "cell_type": "code",
   "execution_count": 183,
   "metadata": {
    "pycharm": {
     "name": "#%%\n"
    }
   },
   "outputs": [
    {
     "data": {
      "text/plain": "     const  SUM+LOI\n150    1.0  107.582\n119    1.0  102.320\n181    1.0  104.628\n26     1.0  102.876",
      "text/html": "<div>\n<style scoped>\n    .dataframe tbody tr th:only-of-type {\n        vertical-align: middle;\n    }\n\n    .dataframe tbody tr th {\n        vertical-align: top;\n    }\n\n    .dataframe thead th {\n        text-align: right;\n    }\n</style>\n<table border=\"1\" class=\"dataframe\">\n  <thead>\n    <tr style=\"text-align: right;\">\n      <th></th>\n      <th>const</th>\n      <th>SUM+LOI</th>\n    </tr>\n  </thead>\n  <tbody>\n    <tr>\n      <th>150</th>\n      <td>1.0</td>\n      <td>107.582</td>\n    </tr>\n    <tr>\n      <th>119</th>\n      <td>1.0</td>\n      <td>102.320</td>\n    </tr>\n    <tr>\n      <th>181</th>\n      <td>1.0</td>\n      <td>104.628</td>\n    </tr>\n    <tr>\n      <th>26</th>\n      <td>1.0</td>\n      <td>102.876</td>\n    </tr>\n  </tbody>\n</table>\n</div>"
     },
     "execution_count": 183,
     "metadata": {},
     "output_type": "execute_result"
    }
   ],
   "source": [
    "# Importing Statsmodels.api library from Stamodel package\n",
    "import statsmodels.api as sm\n",
    "\n",
    "# Adding a constant to get an intercept\n",
    "X_train_sm = sm.add_constant(X_train)\n",
    "X_train_sm"
   ]
  },
  {
   "cell_type": "markdown",
   "metadata": {
    "pycharm": {
     "name": "#%% md\n"
    }
   },
   "source": [
    "Once we’ve added constant, we can fit the regression line using OLS (Ordinary Least Square) method present in the statsmodel. After that, we’ll see the parameters, i.e., $\\widehat{\\beta}_0$ and $\\widehat{\\beta}_1x$ of the straight line."
   ]
  },
  {
   "cell_type": "code",
   "execution_count": 184,
   "metadata": {
    "pycharm": {
     "name": "#%%\n"
    }
   },
   "outputs": [
    {
     "data": {
      "text/plain": "const      284.205998\nSUM+LOI     -2.652056\ndtype: float64"
     },
     "execution_count": 184,
     "metadata": {},
     "output_type": "execute_result"
    }
   ],
   "source": [
    "# Fitting the regression line using 'OLS'. lr stands for linear regression\n",
    "lr = sm.OLS(y_train, X_train_sm).fit()\n",
    "\n",
    "# Printing the parameters\n",
    "lr.params"
   ]
  },
  {
   "cell_type": "markdown",
   "source": [
    "The output of previous code line gives you the constant and rate of equation: $\\widehat{y} = \\widehat{\\beta}_0 + \\widehat{\\beta}_1x$\n"
   ],
   "metadata": {
    "collapsed": false,
    "pycharm": {
     "name": "#%% md\n"
    }
   }
  },
  {
   "cell_type": "markdown",
   "metadata": {
    "pycharm": {
     "name": "#%% md\n"
    }
   },
   "source": [
    "Let’s see the summary of all the different parameters of the regression line fitted like `R²`(Further details:\n",
    "https://en.wikipedia.org/wiki/Coefficient_of_determination), probability of `F-statistic`, and `p-value` (further details: https://en.wikipedia.org/wiki/Ordinary_least_squares)"
   ]
  },
  {
   "cell_type": "code",
   "execution_count": 185,
   "metadata": {
    "pycharm": {
     "name": "#%%\n"
    }
   },
   "outputs": [
    {
     "data": {
      "text/plain": "<class 'statsmodels.iolib.summary.Summary'>\n\"\"\"\n                            OLS Regression Results                            \n==============================================================================\nDep. Variable:              Al2O3 (%)   R-squared:                       0.407\nModel:                            OLS   Adj. R-squared:                  0.111\nMethod:                 Least Squares   F-statistic:                     1.374\nDate:                Wed, 22 Jun 2022   Prob (F-statistic):              0.362\nTime:                        16:22:50   Log-Likelihood:                -13.200\nNo. Observations:                   4   AIC:                             30.40\nDf Residuals:                       2   BIC:                             29.17\nDf Model:                           1                                         \nCovariance Type:            nonrobust                                         \n==============================================================================\n                 coef    std err          t      P>|t|      [0.025      0.975]\n------------------------------------------------------------------------------\nconst        284.2060    236.111      1.204      0.352    -731.696    1300.108\nSUM+LOI       -2.6521      2.262     -1.172      0.362     -12.386       7.081\n==============================================================================\nOmnibus:                          nan   Durbin-Watson:                   1.851\nProb(Omnibus):                    nan   Jarque-Bera (JB):                0.474\nSkew:                           0.525   Prob(JB):                        0.789\nKurtosis:                       1.682   Cond. No.                     5.31e+03\n==============================================================================\n\nNotes:\n[1] Standard Errors assume that the covariance matrix of the errors is correctly specified.\n[2] The condition number is large, 5.31e+03. This might indicate that there are\nstrong multicollinearity or other numerical problems.\n\"\"\"",
      "text/html": "<table class=\"simpletable\">\n<caption>OLS Regression Results</caption>\n<tr>\n  <th>Dep. Variable:</th>        <td>Al2O3 (%)</td>    <th>  R-squared:         </th> <td>   0.407</td>\n</tr>\n<tr>\n  <th>Model:</th>                   <td>OLS</td>       <th>  Adj. R-squared:    </th> <td>   0.111</td>\n</tr>\n<tr>\n  <th>Method:</th>             <td>Least Squares</td>  <th>  F-statistic:       </th> <td>   1.374</td>\n</tr>\n<tr>\n  <th>Date:</th>             <td>Wed, 22 Jun 2022</td> <th>  Prob (F-statistic):</th>  <td> 0.362</td> \n</tr>\n<tr>\n  <th>Time:</th>                 <td>16:22:50</td>     <th>  Log-Likelihood:    </th> <td> -13.200</td>\n</tr>\n<tr>\n  <th>No. Observations:</th>      <td>     4</td>      <th>  AIC:               </th> <td>   30.40</td>\n</tr>\n<tr>\n  <th>Df Residuals:</th>          <td>     2</td>      <th>  BIC:               </th> <td>   29.17</td>\n</tr>\n<tr>\n  <th>Df Model:</th>              <td>     1</td>      <th>                     </th>     <td> </td>   \n</tr>\n<tr>\n  <th>Covariance Type:</th>      <td>nonrobust</td>    <th>                     </th>     <td> </td>   \n</tr>\n</table>\n<table class=\"simpletable\">\n<tr>\n     <td></td>        <th>coef</th>     <th>std err</th>      <th>t</th>      <th>P>|t|</th>  <th>[0.025</th>    <th>0.975]</th>  \n</tr>\n<tr>\n  <th>const</th>   <td>  284.2060</td> <td>  236.111</td> <td>    1.204</td> <td> 0.352</td> <td> -731.696</td> <td> 1300.108</td>\n</tr>\n<tr>\n  <th>SUM+LOI</th> <td>   -2.6521</td> <td>    2.262</td> <td>   -1.172</td> <td> 0.362</td> <td>  -12.386</td> <td>    7.081</td>\n</tr>\n</table>\n<table class=\"simpletable\">\n<tr>\n  <th>Omnibus:</th>       <td>   nan</td> <th>  Durbin-Watson:     </th> <td>   1.851</td>\n</tr>\n<tr>\n  <th>Prob(Omnibus):</th> <td>   nan</td> <th>  Jarque-Bera (JB):  </th> <td>   0.474</td>\n</tr>\n<tr>\n  <th>Skew:</th>          <td> 0.525</td> <th>  Prob(JB):          </th> <td>   0.789</td>\n</tr>\n<tr>\n  <th>Kurtosis:</th>      <td> 1.682</td> <th>  Cond. No.          </th> <td>5.31e+03</td>\n</tr>\n</table><br/><br/>Notes:<br/>[1] Standard Errors assume that the covariance matrix of the errors is correctly specified.<br/>[2] The condition number is large, 5.31e+03. This might indicate that there are<br/>strong multicollinearity or other numerical problems."
     },
     "execution_count": 185,
     "metadata": {},
     "output_type": "execute_result"
    }
   ],
   "source": [
    "# Performing a summary to list out all the different parameters of the regression line fitted\n",
    "lr.summary()"
   ]
  },
  {
   "cell_type": "markdown",
   "metadata": {
    "pycharm": {
     "name": "#%% md\n"
    }
   },
   "source": [
    "From the statistics of the regression line, we need interpret some parameters to determine whether the model is viable or not.\n",
    "Thus, the parameters we are interested on:\n",
    "a. The `coefficients` and its `p-value`(significance)\n",
    "b.`R-squared` value\n",
    "c. `F-statistic` and its significance\n",
    "\n",
    "a. when the variable coefficient and is corresponding `p-value` < 0.05;  at least one independent variable *x* is related to *y*.\n",
    "If `p-value` ≥ 0.05, there is no relationship between **any** of the independent variables *x* and *y*.\n",
    "b. `R-squared` value, means that  `R-squared`x100% of the *y* ( dependent variable ) variance be explained by the *x* (independent variable).\n",
    "c. When the Probability of F-statistic has a very low p-value, practically zero, which gives us that the model fit is statistically significant."
   ]
  },
  {
   "cell_type": "code",
   "execution_count": 186,
   "metadata": {
    "pycharm": {
     "name": "#%%\n"
    }
   },
   "outputs": [
    {
     "data": {
      "text/plain": "<matplotlib.collections.PathCollection at 0x154716b60>"
     },
     "execution_count": 186,
     "metadata": {},
     "output_type": "execute_result"
    },
    {
     "data": {
      "text/plain": "<Figure size 432x288 with 1 Axes>",
      "image/png": "[encoded data removed]"
     },
     "metadata": {
      "needs_background": "light"
     },
     "output_type": "display_data"
    }
   ],
   "source": [
    "# Visualizing the regression line\n",
    "plt.scatter(X_train, y_train)"
   ]
  },
  {
   "cell_type": "markdown",
   "metadata": {
    "pycharm": {
     "name": "#%% md\n"
    }
   },
   "source": [
    "Replace `constant` and `variable` by the output of `lr.params` in the following code line:"
   ]
  },
  {
   "cell_type": "code",
   "execution_count": 187,
   "metadata": {
    "pycharm": {
     "name": "#%%\n"
    }
   },
   "outputs": [
    {
     "data": {
      "text/plain": "<Figure size 432x288 with 1 Axes>",
      "image/png": "[encoded data removed]"
     },
     "metadata": {
      "needs_background": "light"
     },
     "output_type": "display_data"
    }
   ],
   "source": [
    "plt.plot(X_train, 5.555 + 0.044*X_train, 'r')\n",
    "plt.show()"
   ]
  },
  {
   "cell_type": "markdown",
   "metadata": {
    "pycharm": {
     "name": "#%% md\n"
    }
   },
   "source": [
    "#### 4. Residual analysis\n",
    "\n",
    "In linear regression we assume that the error terms (residuals) are normally distributed.\n",
    "Basically, error can be represented like: `Error = y value - y predicted value`.\n",
    "Let's analyse the residuals. Thus, We have to predict the y value from the training dataset of X using the predict attribute.\n",
    "After that, we’ll create the residuals from the predicted data."
   ]
  },
  {
   "cell_type": "code",
   "execution_count": 188,
   "metadata": {
    "pycharm": {
     "name": "#%%\n"
    }
   },
   "outputs": [],
   "source": [
    "# Predicting y_value using training data of X\n",
    "y_train_pred = lr.predict(X_train_sm)\n",
    "# Creating residuals from the y_train data and predicted y_data\n",
    "res = (y_train - y_train_pred)"
   ]
  },
  {
   "cell_type": "markdown",
   "metadata": {
    "pycharm": {
     "name": "#%% md\n"
    }
   },
   "source": [
    "Plot the histogram of the residuals to verify if they have or not a normal distribution"
   ]
  },
  {
   "cell_type": "code",
   "execution_count": 189,
   "metadata": {
    "pycharm": {
     "name": "#%%\n"
    }
   },
   "outputs": [
    {
     "data": {
      "text/plain": "<Figure size 432x288 with 1 Axes>",
      "image/png": "[encoded data removed]"
     },
     "metadata": {
      "needs_background": "light"
     },
     "output_type": "display_data"
    }
   ],
   "source": [
    "# Plotting the histogram using the residual values\n",
    "fig = plt.figure()\n",
    "sns.distplot(res, bins = 15)\n",
    "plt.title('Error Terms', fontsize = 15)\n",
    "plt.xlabel('y_train - y_train_pred', fontsize = 15)\n",
    "plt.show()"
   ]
  },
  {
   "cell_type": "markdown",
   "metadata": {
    "pycharm": {
     "name": "#%% md\n"
    }
   },
   "source": [
    "Visualizing if there are any pattern on the residuals plot:"
   ]
  },
  {
   "cell_type": "code",
   "execution_count": 190,
   "metadata": {
    "pycharm": {
     "name": "#%%\n"
    }
   },
   "outputs": [
    {
     "data": {
      "text/plain": "<Figure size 432x288 with 1 Axes>",
      "image/png": "[encoded data removed]"
     },
     "metadata": {
      "needs_background": "light"
     },
     "output_type": "display_data"
    }
   ],
   "source": [
    "# Looking for any patterns in the residuals\n",
    "plt.scatter(X_train,res)\n",
    "plt.show()"
   ]
  },
  {
   "cell_type": "markdown",
   "metadata": {
    "pycharm": {
     "name": "#%% md\n"
    }
   },
   "source": [
    "#### 5. Predictions:\n",
    "Now that we have fitted the regression line on our train dataset, we can make some predictions to the test data. Similar\n",
    "to the training dataset, we have to `add_constant` to the test data and predict the *y* values using the `predict` attribute\n",
    "present in the `statsmodel`."
   ]
  },
  {
   "cell_type": "code",
   "execution_count": 191,
   "metadata": {
    "pycharm": {
     "name": "#%%\n"
    }
   },
   "outputs": [
    {
     "data": {
      "text/plain": "57    5.620799\n88    3.780273\ndtype: float64"
     },
     "execution_count": 191,
     "metadata": {},
     "output_type": "execute_result"
    }
   ],
   "source": [
    "# Adding a constant to X_test\n",
    "X_test_sm = sm.add_constant(X_test)\n",
    "\n",
    "# Predicting the y values corresponding to X_test_sm\n",
    "y_test_pred = lr.predict(X_test_sm)\n",
    "\n",
    "# Printing the first 15 predicted values\n",
    "y_test_pred"
   ]
  },
  {
   "cell_type": "markdown",
   "metadata": {
    "pycharm": {
     "name": "#%% md\n"
    }
   },
   "source": [
    "Now, let’s calculate the R² value for the above-predicted y-values. We can do that by merely importing the `r2_score` library\n",
    "from ´sklearn.metrics´package."
   ]
  },
  {
   "cell_type": "code",
   "execution_count": 192,
   "metadata": {
    "pycharm": {
     "name": "#%%\n"
    }
   },
   "outputs": [
    {
     "data": {
      "text/plain": "-21.762290411152588"
     },
     "execution_count": 192,
     "metadata": {},
     "output_type": "execute_result"
    }
   ],
   "source": [
    "# Importing r2_square\n",
    "from sklearn.metrics import r2_score\n",
    "\n",
    "# Checking the R-squared value\n",
    "r_squared = r2_score(y_test, y_test_pred)\n",
    "r_squared"
   ]
  },
  {
   "cell_type": "markdown",
   "metadata": {
    "pycharm": {
     "name": "#%% md\n"
    }
   },
   "source": [
    "Notice that the R² value on test data must be within 5% of the R² value on training data. When this occurrs, we can conclude\n",
    "that the model is pretty stable. Which means, what the model has learned on the training set can generalize on the unseen\n",
    "test set.\n",
    "\n",
    "Let's visualize the data:"
   ]
  },
  {
   "cell_type": "code",
   "execution_count": 193,
   "metadata": {
    "pycharm": {
     "name": "#%%\n"
    }
   },
   "outputs": [
    {
     "data": {
      "text/plain": "<Figure size 432x288 with 1 Axes>",
      "image/png": "[encoded data removed]"
     },
     "metadata": {
      "needs_background": "light"
     },
     "output_type": "display_data"
    }
   ],
   "source": [
    "# Visualize the line on the test set\n",
    "plt.scatter(X_test, y_test)\n",
    "plt.plot(X_test, y_test_pred, 'r')\n",
    "plt.show()\n",
    "\n",
    "\n"
   ]
  }
 ],
 "metadata": {
  "kernelspec": {
   "display_name": "Python 3 (ipykernel)",
   "language": "python",
   "name": "python3"
  },
  "language_info": {
   "codemirror_mode": {
    "name": "ipython",
    "version": 3
   },
   "file_extension": ".py",
   "mimetype": "text/x-python",
   "name": "python",
   "nbconvert_exporter": "python",
   "pygments_lexer": "ipython3",
   "version": "3.10.4"
  }
 },
 "nbformat": 4,
 "nbformat_minor": 1
}